{
 "cells": [
  {
   "cell_type": "markdown",
   "id": "66f4f6ee",
   "metadata": {},
   "source": [
    "# Ejercicio 1"
   ]
  },
  {
   "cell_type": "code",
   "execution_count": 1,
   "id": "95d727fe",
   "metadata": {
    "ExecuteTime": {
     "end_time": "2021-10-29T08:45:21.241836Z",
     "start_time": "2021-10-29T08:45:21.225831Z"
    }
   },
   "outputs": [],
   "source": [
    "def Comprobacioninicial(x,A):\n",
    "    if x == 0:\n",
    "        return True\n",
    "    if x < 0:\n",
    "        return False    \n",
    "    if x < min(A):\n",
    "        return False\n",
    "    for i in A: \n",
    "        if i == 1:\n",
    "            return True\n",
    "    return elSolitario(x,A)"
   ]
  },
  {
   "cell_type": "code",
   "execution_count": 2,
   "id": "c5c9ab21",
   "metadata": {
    "ExecuteTime": {
     "end_time": "2021-10-29T08:45:21.802000Z",
     "start_time": "2021-10-29T08:45:21.786003Z"
    }
   },
   "outputs": [],
   "source": [
    "def elSolitario(x,A):\n",
    "    for i in A:\n",
    "        if x % i == 0:\n",
    "            return True\n",
    "    return porParejas(x,A)"
   ]
  },
  {
   "cell_type": "code",
   "execution_count": 3,
   "id": "08eace4b",
   "metadata": {
    "ExecuteTime": {
     "end_time": "2021-10-29T08:45:22.476118Z",
     "start_time": "2021-10-29T08:45:22.452110Z"
    }
   },
   "outputs": [],
   "source": [
    "def porParejas(x,A):\n",
    "    for a in A:\n",
    "        for b in A:\n",
    "            if a != b:\n",
    "                for j in range(1,int(x)): # acotar el range\n",
    "                    i = 0\n",
    "                    while a*j + i*b <= x:\n",
    "                        i = i+1\n",
    "                        if x == a*j + i*b:\n",
    "                            return True\n",
    "    return False"
   ]
  },
  {
   "cell_type": "code",
   "execution_count": 12,
   "id": "3ecf0f33",
   "metadata": {
    "ExecuteTime": {
     "end_time": "2021-10-30T22:34:10.534835Z",
     "start_time": "2021-10-30T22:34:10.518834Z"
    }
   },
   "outputs": [],
   "source": [
    "def menageaTrois(x,A):\n",
    "    for a in A:\n",
    "        for b in A:\n",
    "            if a != b:\n",
    "                for c in A:\n",
    "                    if a != c and b != c:  \n",
    "                        for j in range(1,int(x)): # acotar el range\n",
    "                            i = 0 # HAY QUE REINICIAR EL j EN ALGUN MOMENTO????\n",
    "                            for k in range(1,int(x)): # acotar el range\n",
    "                                while a*j + b*k + i*c <= x:\n",
    "                                    i = i+1\n",
    "                                    if x == a*j + b*k + i*c:\n",
    "                                        return True\n",
    "    return False"
   ]
  },
  {
   "cell_type": "code",
   "execution_count": 5,
   "id": "f6b306ff",
   "metadata": {
    "ExecuteTime": {
     "end_time": "2021-10-29T08:45:23.679865Z",
     "start_time": "2021-10-29T08:45:23.663868Z"
    }
   },
   "outputs": [],
   "source": [
    "def Pertenece(x,A):\n",
    "    return Comprobacioninicial(x,A)"
   ]
  },
  {
   "cell_type": "markdown",
   "id": "0c8660aa",
   "metadata": {
    "heading_collapsed": true
   },
   "source": [
    "## Pruebas"
   ]
  },
  {
   "cell_type": "code",
   "execution_count": 11,
   "id": "741deadf",
   "metadata": {
    "ExecuteTime": {
     "end_time": "2021-10-26T21:56:08.009169Z",
     "start_time": "2021-10-26T21:56:07.998167Z"
    },
    "hidden": true,
    "scrolled": false
   },
   "outputs": [
    {
     "name": "stdout",
     "output_type": "stream",
     "text": [
      "0\tTrue\n",
      "1\tFalse\n",
      "2\tFalse\n",
      "3\tFalse\n",
      "4\tFalse\n",
      "5\tFalse\n",
      "6\tFalse\n",
      "7\tTrue\n",
      "8\tFalse\n",
      "9\tTrue\n",
      "10\tFalse\n",
      "11\tFalse\n",
      "12\tFalse\n",
      "13\tFalse\n",
      "14\tTrue\n",
      "15\tFalse\n",
      "16\tFalse\n",
      "17\tFalse\n",
      "18\tTrue\n",
      "19\tFalse\n",
      "20\tFalse\n",
      "21\tTrue\n",
      "22\tFalse\n",
      "23\tTrue\n",
      "24\tFalse\n",
      "25\tTrue\n",
      "26\tFalse\n",
      "27\tTrue\n",
      "28\tTrue\n",
      "29\tFalse\n",
      "30\tTrue\n",
      "31\tTrue\n",
      "32\tTrue\n",
      "33\tFalse\n",
      "34\tTrue\n"
     ]
    }
   ],
   "source": [
    "for i in range(35):\n",
    "    print(str(i) + \"\\t\" + str(Pertenece(i,[7,9,31])))\n",
    "# perfecto"
   ]
  },
  {
   "cell_type": "code",
   "execution_count": 115,
   "id": "db4bd4b0",
   "metadata": {
    "ExecuteTime": {
     "end_time": "2021-10-24T22:18:38.592254Z",
     "start_time": "2021-10-24T22:18:38.580671Z"
    },
    "hidden": true
   },
   "outputs": [
    {
     "name": "stdout",
     "output_type": "stream",
     "text": [
      "0\tTrue\n",
      "1\tFalse\n",
      "2\tFalse\n",
      "3\tTrue\n",
      "4\tFalse\n",
      "5\tFalse\n",
      "6\tTrue\n",
      "7\tTrue\n",
      "8\tFalse\n",
      "9\tTrue\n"
     ]
    }
   ],
   "source": [
    "for i in range(10):\n",
    "    print(str(i) + \"\\t\" + str(Pertenece(i,[3,7,11])))\n",
    "# perfecto"
   ]
  },
  {
   "cell_type": "code",
   "execution_count": 116,
   "id": "282bb8fc",
   "metadata": {
    "ExecuteTime": {
     "end_time": "2021-10-24T22:19:19.727398Z",
     "start_time": "2021-10-24T22:19:19.697433Z"
    },
    "hidden": true
   },
   "outputs": [
    {
     "name": "stdout",
     "output_type": "stream",
     "text": [
      "0\tTrue\n",
      "1\tFalse\n",
      "2\tFalse\n",
      "3\tFalse\n",
      "4\tTrue\n",
      "5\tFalse\n",
      "6\tFalse\n",
      "7\tFalse\n",
      "8\tTrue\n",
      "9\tFalse\n",
      "10\tFalse\n",
      "11\tFalse\n",
      "12\tTrue\n",
      "13\tTrue\n",
      "14\tFalse\n",
      "15\tTrue\n",
      "16\tTrue\n",
      "17\tTrue\n",
      "18\tFalse\n",
      "19\tTrue\n",
      "20\tTrue\n",
      "21\tTrue\n",
      "22\tFalse\n",
      "23\tTrue\n"
     ]
    }
   ],
   "source": [
    "for i in range(24):\n",
    "    print(str(i) + \"\\t\" + str(Pertenece(i,[4,13,15])))\n",
    "# perfecto"
   ]
  },
  {
   "cell_type": "code",
   "execution_count": 117,
   "id": "7dd24258",
   "metadata": {
    "ExecuteTime": {
     "end_time": "2021-10-24T22:20:21.885611Z",
     "start_time": "2021-10-24T22:20:21.867218Z"
    },
    "hidden": true
   },
   "outputs": [
    {
     "name": "stdout",
     "output_type": "stream",
     "text": [
      "0\tTrue\n",
      "1\tFalse\n",
      "2\tFalse\n",
      "3\tFalse\n",
      "4\tFalse\n",
      "5\tFalse\n",
      "6\tFalse\n",
      "7\tTrue\n",
      "8\tFalse\n",
      "9\tFalse\n",
      "10\tFalse\n",
      "11\tFalse\n",
      "12\tFalse\n",
      "13\tFalse\n",
      "14\tTrue\n",
      "15\tTrue\n",
      "16\tFalse\n",
      "17\tFalse\n",
      "18\tFalse\n",
      "19\tFalse\n",
      "20\tTrue\n",
      "21\tTrue\n",
      "22\tTrue\n",
      "23\tFalse\n",
      "24\tFalse\n",
      "25\tFalse\n",
      "26\tFalse\n",
      "27\tTrue\n",
      "28\tTrue\n",
      "29\tTrue\n",
      "30\tTrue\n",
      "31\tFalse\n",
      "32\tFalse\n",
      "33\tFalse\n",
      "34\tTrue\n",
      "35\tTrue\n",
      "36\tTrue\n",
      "37\tTrue\n",
      "38\tFalse\n",
      "39\tFalse\n",
      "40\tTrue\n"
     ]
    }
   ],
   "source": [
    "for i in range(41):\n",
    "    print(str(i) + \"\\t\" + str(Pertenece(i,[7,15,20,46,53])))\n",
    "# perfecto"
   ]
  },
  {
   "cell_type": "markdown",
   "id": "94aa986f",
   "metadata": {},
   "source": [
    "# Ejercicio 2"
   ]
  },
  {
   "cell_type": "code",
   "execution_count": 6,
   "id": "63df7cc5",
   "metadata": {
    "ExecuteTime": {
     "end_time": "2021-10-29T08:45:28.904568Z",
     "start_time": "2021-10-29T08:45:28.888566Z"
    }
   },
   "outputs": [],
   "source": [
    "import math\n",
    "import functools"
   ]
  },
  {
   "cell_type": "code",
   "execution_count": 7,
   "id": "9faac994",
   "metadata": {
    "ExecuteTime": {
     "end_time": "2021-10-29T08:45:29.384747Z",
     "start_time": "2021-10-29T08:45:29.368742Z"
    }
   },
   "outputs": [],
   "source": [
    "def MCD(A):\n",
    "    return functools.reduce(math.gcd,A)"
   ]
  },
  {
   "cell_type": "markdown",
   "id": "9002505c",
   "metadata": {
    "heading_collapsed": true
   },
   "source": [
    "## Prueba maximo comun divisor"
   ]
  },
  {
   "cell_type": "code",
   "execution_count": 12,
   "id": "630a5f7d",
   "metadata": {
    "ExecuteTime": {
     "end_time": "2021-10-27T09:23:51.424890Z",
     "start_time": "2021-10-27T09:23:51.400880Z"
    },
    "hidden": true,
    "scrolled": true
   },
   "outputs": [
    {
     "ename": "NameError",
     "evalue": "name 'MCD' is not defined",
     "output_type": "error",
     "traceback": [
      "\u001b[1;31m---------------------------------------------------------------------------\u001b[0m",
      "\u001b[1;31mNameError\u001b[0m                                 Traceback (most recent call last)",
      "\u001b[1;32m<ipython-input-12-19a9e4c58f2a>\u001b[0m in \u001b[0;36m<module>\u001b[1;34m\u001b[0m\n\u001b[1;32m----> 1\u001b[1;33m \u001b[0mprint\u001b[0m\u001b[1;33m(\u001b[0m\u001b[0mMCD\u001b[0m\u001b[1;33m(\u001b[0m\u001b[1;33m[\u001b[0m\u001b[1;36m2\u001b[0m\u001b[1;33m,\u001b[0m\u001b[1;36m4\u001b[0m\u001b[1;33m,\u001b[0m\u001b[1;36m6\u001b[0m\u001b[1;33m]\u001b[0m\u001b[1;33m)\u001b[0m\u001b[1;33m)\u001b[0m\u001b[1;33m\u001b[0m\u001b[1;33m\u001b[0m\u001b[0m\n\u001b[0m\u001b[0;32m      2\u001b[0m \u001b[0mprint\u001b[0m\u001b[1;33m(\u001b[0m\u001b[0mMCD\u001b[0m\u001b[1;33m(\u001b[0m\u001b[1;33m[\u001b[0m\u001b[1;36m2\u001b[0m\u001b[1;33m,\u001b[0m\u001b[1;36m5\u001b[0m\u001b[1;33m,\u001b[0m\u001b[1;36m6\u001b[0m\u001b[1;33m]\u001b[0m\u001b[1;33m)\u001b[0m\u001b[1;33m)\u001b[0m\u001b[1;33m\u001b[0m\u001b[1;33m\u001b[0m\u001b[0m\n",
      "\u001b[1;31mNameError\u001b[0m: name 'MCD' is not defined"
     ]
    }
   ],
   "source": [
    "print(MCD([2,4,6]))\n",
    "print(MCD([2,5,6]))"
   ]
  },
  {
   "cell_type": "markdown",
   "id": "be819bb9",
   "metadata": {},
   "source": [
    "## Numerico o no numerico"
   ]
  },
  {
   "cell_type": "code",
   "execution_count": 8,
   "id": "969d0bd8",
   "metadata": {
    "ExecuteTime": {
     "end_time": "2021-10-29T08:45:33.645560Z",
     "start_time": "2021-10-29T08:45:33.629555Z"
    }
   },
   "outputs": [],
   "source": [
    "def NumericoNoNumerico(A):\n",
    "    if MCD(A) == 1:\n",
    "        return True\n",
    "    return \"El sistema generador no es numerico.\""
   ]
  },
  {
   "cell_type": "markdown",
   "id": "5e185249",
   "metadata": {},
   "source": [
    "## Apery"
   ]
  },
  {
   "cell_type": "code",
   "execution_count": 1,
   "id": "3fc9512f",
   "metadata": {
    "ExecuteTime": {
     "end_time": "2021-10-30T22:29:21.510842Z",
     "start_time": "2021-10-30T22:29:21.500836Z"
    }
   },
   "outputs": [],
   "source": [
    "def AperySet(A):\n",
    "    AperySet = []\n",
    "    i = 0\n",
    "    while len(AperySet) < min(A): # esta cota no funciona\n",
    "        if Pertenece(i,A) and Pertenece(i-min(A),A) == False:\n",
    "            AperySet.append(i)\n",
    "        i = i + 1\n",
    "    return AperySet"
   ]
  },
  {
   "cell_type": "markdown",
   "id": "feabaae9",
   "metadata": {
    "heading_collapsed": true
   },
   "source": [
    "## Prueba AperySet\n",
    "\n",
    "#### Con el for de abajo podemos comprobar si el apery esta bien formado"
   ]
  },
  {
   "cell_type": "code",
   "execution_count": 10,
   "id": "98e13bf7",
   "metadata": {
    "ExecuteTime": {
     "end_time": "2021-10-29T08:45:36.495594Z",
     "start_time": "2021-10-29T08:45:36.455598Z"
    },
    "hidden": true
   },
   "outputs": [
    {
     "data": {
      "text/plain": [
       "[15, 30, 45, 47, 60, 62, 90]"
      ]
     },
     "execution_count": 10,
     "metadata": {},
     "output_type": "execute_result"
    }
   ],
   "source": [
    "AperySet([7, 15, 21, 47])"
   ]
  },
  {
   "cell_type": "code",
   "execution_count": 12,
   "id": "174395bb",
   "metadata": {
    "ExecuteTime": {
     "end_time": "2021-10-29T08:46:04.468383Z",
     "start_time": "2021-10-29T08:46:04.428384Z"
    },
    "hidden": true
   },
   "outputs": [
    {
     "name": "stdout",
     "output_type": "stream",
     "text": [
      "0\tTrue\n",
      "1\tFalse\n",
      "2\tFalse\n",
      "3\tFalse\n",
      "4\tFalse\n",
      "5\tFalse\n",
      "6\tFalse\n",
      "7\tTrue\n",
      "8\tFalse\n",
      "9\tFalse\n",
      "10\tFalse\n",
      "11\tFalse\n",
      "12\tFalse\n",
      "13\tFalse\n",
      "14\tTrue\n",
      "15\tTrue\n",
      "16\tFalse\n",
      "17\tFalse\n",
      "18\tFalse\n",
      "19\tFalse\n",
      "20\tFalse\n",
      "21\tTrue\n",
      "22\tTrue\n",
      "23\tFalse\n",
      "24\tFalse\n",
      "25\tFalse\n",
      "26\tFalse\n",
      "27\tFalse\n",
      "28\tTrue\n",
      "29\tTrue\n",
      "30\tTrue\n",
      "31\tFalse\n",
      "32\tFalse\n",
      "33\tFalse\n",
      "34\tFalse\n",
      "35\tTrue\n",
      "36\tTrue\n",
      "37\tTrue\n",
      "38\tFalse\n",
      "39\tFalse\n",
      "40\tFalse\n",
      "41\tFalse\n",
      "42\tTrue\n",
      "43\tTrue\n",
      "44\tTrue\n",
      "45\tTrue\n",
      "46\tFalse\n",
      "47\tTrue\n",
      "48\tFalse\n",
      "49\tTrue\n",
      "50\tTrue\n",
      "51\tTrue\n",
      "52\tTrue\n",
      "53\tFalse\n",
      "54\tTrue\n",
      "55\tFalse\n",
      "56\tTrue\n",
      "57\tTrue\n",
      "58\tTrue\n",
      "59\tTrue\n",
      "60\tTrue\n",
      "61\tTrue\n",
      "62\tTrue\n",
      "63\tTrue\n",
      "64\tTrue\n",
      "65\tTrue\n",
      "66\tTrue\n",
      "67\tTrue\n",
      "68\tTrue\n",
      "69\tFalse\n",
      "70\tTrue\n",
      "71\tTrue\n",
      "72\tTrue\n",
      "73\tTrue\n",
      "74\tTrue\n",
      "75\tTrue\n",
      "76\tFalse\n",
      "77\tTrue\n",
      "78\tTrue\n",
      "79\tTrue\n",
      "80\tTrue\n",
      "81\tTrue\n",
      "82\tTrue\n",
      "83\tFalse\n",
      "84\tTrue\n",
      "85\tTrue\n",
      "86\tTrue\n",
      "87\tTrue\n",
      "88\tTrue\n",
      "89\tTrue\n",
      "90\tTrue\n",
      "91\tTrue\n",
      "92\tTrue\n",
      "93\tTrue\n",
      "94\tTrue\n",
      "95\tTrue\n",
      "96\tTrue\n",
      "97\tTrue\n",
      "98\tTrue\n",
      "99\tTrue\n",
      "100\tTrue\n",
      "101\tTrue\n",
      "102\tTrue\n",
      "103\tTrue\n",
      "104\tTrue\n",
      "105\tTrue\n",
      "106\tTrue\n",
      "107\tTrue\n",
      "108\tTrue\n",
      "109\tTrue\n",
      "110\tTrue\n",
      "111\tTrue\n",
      "112\tTrue\n",
      "113\tTrue\n",
      "114\tTrue\n",
      "115\tTrue\n",
      "116\tTrue\n",
      "117\tTrue\n",
      "118\tTrue\n",
      "119\tTrue\n",
      "120\tTrue\n",
      "121\tTrue\n",
      "122\tTrue\n",
      "123\tTrue\n",
      "124\tTrue\n",
      "125\tTrue\n",
      "126\tTrue\n",
      "127\tTrue\n",
      "128\tTrue\n",
      "129\tTrue\n",
      "130\tTrue\n",
      "131\tTrue\n",
      "132\tTrue\n",
      "133\tTrue\n",
      "134\tTrue\n",
      "135\tTrue\n",
      "136\tTrue\n",
      "137\tTrue\n",
      "138\tTrue\n",
      "139\tTrue\n",
      "140\tTrue\n",
      "141\tTrue\n",
      "142\tTrue\n",
      "143\tTrue\n",
      "144\tTrue\n",
      "145\tTrue\n",
      "146\tTrue\n",
      "147\tTrue\n",
      "148\tTrue\n",
      "149\tTrue\n"
     ]
    }
   ],
   "source": [
    "for i in range(150):\n",
    "    print(str(i) + \"\\t\" + str(Pertenece(i,[7, 15, 21, 47])))"
   ]
  },
  {
   "cell_type": "markdown",
   "id": "c3acbdef",
   "metadata": {},
   "source": [
    "## Generador"
   ]
  },
  {
   "cell_type": "code",
   "execution_count": 19,
   "id": "70e65373",
   "metadata": {
    "ExecuteTime": {
     "end_time": "2021-10-29T10:05:20.261135Z",
     "start_time": "2021-10-29T10:05:20.245136Z"
    }
   },
   "outputs": [],
   "source": [
    "def Generador(A):\n",
    "    NumericoNoNumerico(A)\n",
    "    SubgrupoGenerado = []\n",
    "    for i in range(1+max(AperySet(A))):\n",
    "        if Pertenece(i,A):\n",
    "            SubgrupoGenerado.append(i)\n",
    "    return SubgrupoGenerado"
   ]
  },
  {
   "cell_type": "markdown",
   "id": "4ddf0b3e",
   "metadata": {
    "heading_collapsed": true
   },
   "source": [
    "## Prueba Generador"
   ]
  },
  {
   "cell_type": "code",
   "execution_count": 20,
   "id": "452cc43c",
   "metadata": {
    "ExecuteTime": {
     "end_time": "2021-10-29T10:05:21.910005Z",
     "start_time": "2021-10-29T10:05:21.869987Z"
    },
    "hidden": true
   },
   "outputs": [
    {
     "data": {
      "text/plain": [
       "[0,\n",
       " 7,\n",
       " 14,\n",
       " 15,\n",
       " 21,\n",
       " 22,\n",
       " 28,\n",
       " 29,\n",
       " 30,\n",
       " 35,\n",
       " 36,\n",
       " 37,\n",
       " 42,\n",
       " 43,\n",
       " 44,\n",
       " 45,\n",
       " 47,\n",
       " 49,\n",
       " 50,\n",
       " 51,\n",
       " 52,\n",
       " 54,\n",
       " 56,\n",
       " 57,\n",
       " 58,\n",
       " 59,\n",
       " 60,\n",
       " 61,\n",
       " 62,\n",
       " 63,\n",
       " 64,\n",
       " 65,\n",
       " 66,\n",
       " 67,\n",
       " 68,\n",
       " 70,\n",
       " 71,\n",
       " 72,\n",
       " 73,\n",
       " 74,\n",
       " 75,\n",
       " 77,\n",
       " 78,\n",
       " 79,\n",
       " 80,\n",
       " 81,\n",
       " 82,\n",
       " 84,\n",
       " 85,\n",
       " 86,\n",
       " 87,\n",
       " 88,\n",
       " 89,\n",
       " 90]"
      ]
     },
     "execution_count": 20,
     "metadata": {},
     "output_type": "execute_result"
    }
   ],
   "source": [
    "Generador([7, 15, 21, 47])\n"
   ]
  },
  {
   "cell_type": "code",
   "execution_count": 13,
   "id": "e8bd344f",
   "metadata": {
    "ExecuteTime": {
     "end_time": "2021-10-27T11:18:28.421575Z",
     "start_time": "2021-10-27T11:18:28.396569Z"
    },
    "hidden": true
   },
   "outputs": [
    {
     "name": "stdout",
     "output_type": "stream",
     "text": [
      "0 True\n",
      "1 False\n",
      "2 False\n",
      "3 False\n",
      "4 False\n",
      "5 False\n",
      "6 False\n",
      "7 True\n",
      "8 False\n",
      "9 False\n",
      "10 False\n",
      "11 False\n",
      "12 False\n",
      "13 False\n",
      "14 True\n",
      "15 True\n",
      "16 False\n",
      "17 False\n",
      "18 False\n",
      "19 False\n",
      "20 False\n",
      "21 True\n",
      "22 False\n",
      "23 False\n",
      "24 False\n",
      "25 False\n",
      "26 False\n",
      "27 False\n",
      "28 True\n",
      "29 True\n",
      "30 True\n",
      "31 False\n",
      "32 False\n",
      "33 False\n",
      "34 False\n",
      "35 True\n",
      "36 True\n",
      "37 True\n",
      "38 False\n",
      "39 False\n",
      "40 False\n",
      "41 False\n",
      "42 True\n",
      "43 True\n",
      "44 True\n",
      "45 True\n",
      "46 False\n",
      "47 True\n",
      "48 False\n",
      "49 True\n",
      "50 True\n",
      "51 True\n",
      "52 True\n",
      "53 False\n",
      "54 False\n",
      "55 False\n",
      "56 True\n",
      "57 True\n",
      "58 True\n",
      "59 True\n",
      "60 True\n",
      "61 True\n"
     ]
    }
   ],
   "source": [
    "for i in range(62):\n",
    "    print(i,Pertenece(i,[7, 15, 21, 47]))"
   ]
  },
  {
   "cell_type": "code",
   "execution_count": 24,
   "id": "07a6ff9b",
   "metadata": {
    "ExecuteTime": {
     "end_time": "2021-10-29T10:11:59.709660Z",
     "start_time": "2021-10-29T10:11:56.487420Z"
    },
    "hidden": true
   },
   "outputs": [
    {
     "ename": "KeyboardInterrupt",
     "evalue": "",
     "output_type": "error",
     "traceback": [
      "\u001b[1;31m---------------------------------------------------------------------------\u001b[0m",
      "\u001b[1;31mKeyboardInterrupt\u001b[0m                         Traceback (most recent call last)",
      "\u001b[1;32m<ipython-input-24-f4a7a65fc664>\u001b[0m in \u001b[0;36m<module>\u001b[1;34m\u001b[0m\n\u001b[1;32m----> 1\u001b[1;33m \u001b[0mAperySet\u001b[0m\u001b[1;33m(\u001b[0m\u001b[1;33m[\u001b[0m\u001b[1;36m5\u001b[0m\u001b[1;33m,\u001b[0m\u001b[1;36m3\u001b[0m\u001b[1;33m]\u001b[0m\u001b[1;33m)\u001b[0m\u001b[1;33m\u001b[0m\u001b[1;33m\u001b[0m\u001b[0m\n\u001b[0m",
      "\u001b[1;32m<ipython-input-17-841e48cef4c6>\u001b[0m in \u001b[0;36mAperySet\u001b[1;34m(A)\u001b[0m\n\u001b[0;32m      3\u001b[0m     \u001b[0mi\u001b[0m \u001b[1;33m=\u001b[0m \u001b[1;36m1\u001b[0m\u001b[1;33m\u001b[0m\u001b[1;33m\u001b[0m\u001b[0m\n\u001b[0;32m      4\u001b[0m     \u001b[1;32mwhile\u001b[0m \u001b[0mlen\u001b[0m\u001b[1;33m(\u001b[0m\u001b[0mAperySet\u001b[0m\u001b[1;33m)\u001b[0m \u001b[1;33m<\u001b[0m \u001b[0mmin\u001b[0m\u001b[1;33m(\u001b[0m\u001b[0mA\u001b[0m\u001b[1;33m)\u001b[0m\u001b[1;33m:\u001b[0m \u001b[1;31m# esta cota no funciona\u001b[0m\u001b[1;33m\u001b[0m\u001b[1;33m\u001b[0m\u001b[0m\n\u001b[1;32m----> 5\u001b[1;33m         \u001b[1;32mif\u001b[0m \u001b[0mPertenece\u001b[0m\u001b[1;33m(\u001b[0m\u001b[0mi\u001b[0m\u001b[1;33m,\u001b[0m\u001b[0mA\u001b[0m\u001b[1;33m)\u001b[0m \u001b[1;32mand\u001b[0m \u001b[0mPertenece\u001b[0m\u001b[1;33m(\u001b[0m\u001b[0mi\u001b[0m\u001b[1;33m-\u001b[0m\u001b[0mmin\u001b[0m\u001b[1;33m(\u001b[0m\u001b[0mA\u001b[0m\u001b[1;33m)\u001b[0m\u001b[1;33m,\u001b[0m\u001b[0mA\u001b[0m\u001b[1;33m)\u001b[0m \u001b[1;33m==\u001b[0m \u001b[1;32mFalse\u001b[0m\u001b[1;33m:\u001b[0m\u001b[1;33m\u001b[0m\u001b[1;33m\u001b[0m\u001b[0m\n\u001b[0m\u001b[0;32m      6\u001b[0m             \u001b[0mAperySet\u001b[0m\u001b[1;33m.\u001b[0m\u001b[0mappend\u001b[0m\u001b[1;33m(\u001b[0m\u001b[0mi\u001b[0m\u001b[1;33m)\u001b[0m\u001b[1;33m\u001b[0m\u001b[1;33m\u001b[0m\u001b[0m\n\u001b[0;32m      7\u001b[0m         \u001b[0mi\u001b[0m \u001b[1;33m=\u001b[0m \u001b[0mi\u001b[0m \u001b[1;33m+\u001b[0m \u001b[1;36m1\u001b[0m\u001b[1;33m\u001b[0m\u001b[1;33m\u001b[0m\u001b[0m\n",
      "\u001b[1;32m<ipython-input-5-4a6f862840bc>\u001b[0m in \u001b[0;36mPertenece\u001b[1;34m(x, A)\u001b[0m\n\u001b[0;32m      1\u001b[0m \u001b[1;32mdef\u001b[0m \u001b[0mPertenece\u001b[0m\u001b[1;33m(\u001b[0m\u001b[0mx\u001b[0m\u001b[1;33m,\u001b[0m\u001b[0mA\u001b[0m\u001b[1;33m)\u001b[0m\u001b[1;33m:\u001b[0m\u001b[1;33m\u001b[0m\u001b[1;33m\u001b[0m\u001b[0m\n\u001b[1;32m----> 2\u001b[1;33m     \u001b[1;32mreturn\u001b[0m \u001b[0mComprobacioninicial\u001b[0m\u001b[1;33m(\u001b[0m\u001b[0mx\u001b[0m\u001b[1;33m,\u001b[0m\u001b[0mA\u001b[0m\u001b[1;33m)\u001b[0m\u001b[1;33m\u001b[0m\u001b[1;33m\u001b[0m\u001b[0m\n\u001b[0m",
      "\u001b[1;32m<ipython-input-1-4f74ac99574f>\u001b[0m in \u001b[0;36mComprobacioninicial\u001b[1;34m(x, A)\u001b[0m\n\u001b[0;32m      9\u001b[0m         \u001b[1;32mif\u001b[0m \u001b[0mi\u001b[0m \u001b[1;33m==\u001b[0m \u001b[1;36m1\u001b[0m\u001b[1;33m:\u001b[0m\u001b[1;33m\u001b[0m\u001b[1;33m\u001b[0m\u001b[0m\n\u001b[0;32m     10\u001b[0m             \u001b[1;32mreturn\u001b[0m \u001b[1;32mTrue\u001b[0m\u001b[1;33m\u001b[0m\u001b[1;33m\u001b[0m\u001b[0m\n\u001b[1;32m---> 11\u001b[1;33m     \u001b[1;32mreturn\u001b[0m \u001b[0melSolitario\u001b[0m\u001b[1;33m(\u001b[0m\u001b[0mx\u001b[0m\u001b[1;33m,\u001b[0m\u001b[0mA\u001b[0m\u001b[1;33m)\u001b[0m\u001b[1;33m\u001b[0m\u001b[1;33m\u001b[0m\u001b[0m\n\u001b[0m",
      "\u001b[1;32m<ipython-input-2-94cfcfb2b824>\u001b[0m in \u001b[0;36melSolitario\u001b[1;34m(x, A)\u001b[0m\n\u001b[0;32m      3\u001b[0m         \u001b[1;32mif\u001b[0m \u001b[0mx\u001b[0m \u001b[1;33m%\u001b[0m \u001b[0mi\u001b[0m \u001b[1;33m==\u001b[0m \u001b[1;36m0\u001b[0m\u001b[1;33m:\u001b[0m\u001b[1;33m\u001b[0m\u001b[1;33m\u001b[0m\u001b[0m\n\u001b[0;32m      4\u001b[0m             \u001b[1;32mreturn\u001b[0m \u001b[1;32mTrue\u001b[0m\u001b[1;33m\u001b[0m\u001b[1;33m\u001b[0m\u001b[0m\n\u001b[1;32m----> 5\u001b[1;33m     \u001b[1;32mreturn\u001b[0m \u001b[0mporParejas\u001b[0m\u001b[1;33m(\u001b[0m\u001b[0mx\u001b[0m\u001b[1;33m,\u001b[0m\u001b[0mA\u001b[0m\u001b[1;33m)\u001b[0m\u001b[1;33m\u001b[0m\u001b[1;33m\u001b[0m\u001b[0m\n\u001b[0m",
      "\u001b[1;32m<ipython-input-3-0141af6927c6>\u001b[0m in \u001b[0;36mporParejas\u001b[1;34m(x, A)\u001b[0m\n\u001b[0;32m      5\u001b[0m                 \u001b[1;32mfor\u001b[0m \u001b[0mj\u001b[0m \u001b[1;32min\u001b[0m \u001b[0mrange\u001b[0m\u001b[1;33m(\u001b[0m\u001b[1;36m1\u001b[0m\u001b[1;33m,\u001b[0m\u001b[0mint\u001b[0m\u001b[1;33m(\u001b[0m\u001b[0mx\u001b[0m\u001b[1;33m)\u001b[0m\u001b[1;33m)\u001b[0m\u001b[1;33m:\u001b[0m \u001b[1;31m# acotar el range\u001b[0m\u001b[1;33m\u001b[0m\u001b[1;33m\u001b[0m\u001b[0m\n\u001b[0;32m      6\u001b[0m                     \u001b[0mi\u001b[0m \u001b[1;33m=\u001b[0m \u001b[1;36m0\u001b[0m\u001b[1;33m\u001b[0m\u001b[1;33m\u001b[0m\u001b[0m\n\u001b[1;32m----> 7\u001b[1;33m                     \u001b[1;32mwhile\u001b[0m \u001b[0ma\u001b[0m\u001b[1;33m*\u001b[0m\u001b[0mj\u001b[0m \u001b[1;33m+\u001b[0m \u001b[0mi\u001b[0m\u001b[1;33m*\u001b[0m\u001b[0mb\u001b[0m \u001b[1;33m<=\u001b[0m \u001b[0mx\u001b[0m\u001b[1;33m:\u001b[0m\u001b[1;33m\u001b[0m\u001b[1;33m\u001b[0m\u001b[0m\n\u001b[0m\u001b[0;32m      8\u001b[0m                         \u001b[0mi\u001b[0m \u001b[1;33m=\u001b[0m \u001b[0mi\u001b[0m\u001b[1;33m+\u001b[0m\u001b[1;36m1\u001b[0m\u001b[1;33m\u001b[0m\u001b[1;33m\u001b[0m\u001b[0m\n\u001b[0;32m      9\u001b[0m                         \u001b[1;32mif\u001b[0m \u001b[0mx\u001b[0m \u001b[1;33m==\u001b[0m \u001b[0ma\u001b[0m\u001b[1;33m*\u001b[0m\u001b[0mj\u001b[0m \u001b[1;33m+\u001b[0m \u001b[0mi\u001b[0m\u001b[1;33m*\u001b[0m\u001b[0mb\u001b[0m\u001b[1;33m:\u001b[0m\u001b[1;33m\u001b[0m\u001b[1;33m\u001b[0m\u001b[0m\n",
      "\u001b[1;31mKeyboardInterrupt\u001b[0m: "
     ]
    }
   ],
   "source": [
    "AperySet([3,5])"
   ]
  },
  {
   "cell_type": "code",
   "execution_count": null,
   "id": "4b2a1e0f",
   "metadata": {
    "hidden": true
   },
   "outputs": [],
   "source": []
  }
 ],
 "metadata": {
  "kernelspec": {
   "display_name": "Python 3",
   "language": "python",
   "name": "python3"
  },
  "language_info": {
   "codemirror_mode": {
    "name": "ipython",
    "version": 3
   },
   "file_extension": ".py",
   "mimetype": "text/x-python",
   "name": "python",
   "nbconvert_exporter": "python",
   "pygments_lexer": "ipython3",
   "version": "3.8.8"
  },
  "latex_envs": {
   "LaTeX_envs_menu_present": true,
   "autoclose": false,
   "autocomplete": true,
   "bibliofile": "biblio.bib",
   "cite_by": "apalike",
   "current_citInitial": 1,
   "eqLabelWithNumbers": true,
   "eqNumInitial": 1,
   "hotkeys": {
    "equation": "Ctrl-E",
    "itemize": "Ctrl-I"
   },
   "labels_anchors": false,
   "latex_user_defs": false,
   "report_style_numbering": false,
   "user_envs_cfg": false
  }
 },
 "nbformat": 4,
 "nbformat_minor": 5
}
