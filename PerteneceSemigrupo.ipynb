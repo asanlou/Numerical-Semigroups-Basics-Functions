{
 "cells": [
  {
   "cell_type": "markdown",
   "id": "66f4f6ee",
   "metadata": {},
   "source": [
    "# Ejercicio 1"
   ]
  },
  {
   "cell_type": "code",
   "execution_count": 1,
   "id": "95d727fe",
   "metadata": {
    "ExecuteTime": {
     "end_time": "2021-10-26T21:54:20.605727Z",
     "start_time": "2021-10-26T21:54:20.595716Z"
    }
   },
   "outputs": [],
   "source": [
    "def Comprobacioninicial(x,A):\n",
    "    if x == 0:\n",
    "        return True\n",
    "    if x < 0:\n",
    "        return False    \n",
    "    if x < min(A):\n",
    "        return False\n",
    "    for i in A: \n",
    "        if i == 1:\n",
    "            return True\n",
    "    return elSolitario(x,A)"
   ]
  },
  {
   "cell_type": "code",
   "execution_count": 2,
   "id": "c5c9ab21",
   "metadata": {
    "ExecuteTime": {
     "end_time": "2021-10-26T21:54:20.969718Z",
     "start_time": "2021-10-26T21:54:20.960717Z"
    }
   },
   "outputs": [],
   "source": [
    "def elSolitario(x,A):\n",
    "    for i in A:\n",
    "        if x % i == 0:\n",
    "            return True\n",
    "    return porParejas(x,A)"
   ]
  },
  {
   "cell_type": "code",
   "execution_count": 7,
   "id": "08eace4b",
   "metadata": {
    "ExecuteTime": {
     "end_time": "2021-10-26T21:54:49.667983Z",
     "start_time": "2021-10-26T21:54:49.656980Z"
    }
   },
   "outputs": [],
   "source": [
    "def porParejas(x,A):\n",
    "    for a in A:\n",
    "        for b in A:\n",
    "            if a != b:\n",
    "                for j in range(1,int(x)): # acotar el range\n",
    "                    i = 1 \n",
    "                    while a*j + i*b <= x:\n",
    "                        i = i+1\n",
    "                        if x == a*j + i*b:\n",
    "                            return True\n",
    "    return False"
   ]
  },
  {
   "cell_type": "code",
   "execution_count": 8,
   "id": "3ecf0f33",
   "metadata": {
    "ExecuteTime": {
     "end_time": "2021-10-26T21:54:50.652200Z",
     "start_time": "2021-10-26T21:54:50.640196Z"
    }
   },
   "outputs": [],
   "source": [
    "def menageaTrois(x,A):\n",
    "    for a in A:\n",
    "        for b in A:\n",
    "            if a == b:\n",
    "                break\n",
    "            for c in A:\n",
    "                if a == c or b == c:\n",
    "                    break  \n",
    "                for j in range(1,int(x)): # acotar el range\n",
    "                    i = 1 # HAY QUE REINICIAR EL j EN ALGUN MOMENTO????\n",
    "                    for k in range(1,int(x)): # acotar el range\n",
    "                        while a*j + b*k + i*c < x:\n",
    "                            i = i+1\n",
    "                            if x == a*j + b*k + i*c:\n",
    "                                return True\n",
    "    return False"
   ]
  },
  {
   "cell_type": "code",
   "execution_count": 9,
   "id": "f6b306ff",
   "metadata": {
    "ExecuteTime": {
     "end_time": "2021-10-26T21:54:51.143350Z",
     "start_time": "2021-10-26T21:54:51.137351Z"
    }
   },
   "outputs": [],
   "source": [
    "def Pertenece(x,A):\n",
    "    return Comprobacioninicial(x,A)"
   ]
  },
  {
   "cell_type": "markdown",
   "id": "0c8660aa",
   "metadata": {},
   "source": [
    "## Pruebas"
   ]
  },
  {
   "cell_type": "code",
   "execution_count": 11,
   "id": "741deadf",
   "metadata": {
    "ExecuteTime": {
     "end_time": "2021-10-26T21:56:08.009169Z",
     "start_time": "2021-10-26T21:56:07.998167Z"
    },
    "scrolled": false
   },
   "outputs": [
    {
     "name": "stdout",
     "output_type": "stream",
     "text": [
      "0\tTrue\n",
      "1\tFalse\n",
      "2\tFalse\n",
      "3\tFalse\n",
      "4\tFalse\n",
      "5\tFalse\n",
      "6\tFalse\n",
      "7\tTrue\n",
      "8\tFalse\n",
      "9\tTrue\n",
      "10\tFalse\n",
      "11\tFalse\n",
      "12\tFalse\n",
      "13\tFalse\n",
      "14\tTrue\n",
      "15\tFalse\n",
      "16\tFalse\n",
      "17\tFalse\n",
      "18\tTrue\n",
      "19\tFalse\n",
      "20\tFalse\n",
      "21\tTrue\n",
      "22\tFalse\n",
      "23\tTrue\n",
      "24\tFalse\n",
      "25\tTrue\n",
      "26\tFalse\n",
      "27\tTrue\n",
      "28\tTrue\n",
      "29\tFalse\n",
      "30\tTrue\n",
      "31\tTrue\n",
      "32\tTrue\n",
      "33\tFalse\n",
      "34\tTrue\n"
     ]
    }
   ],
   "source": [
    "for i in range(35):\n",
    "    print(str(i) + \"\\t\" + str(Pertenece(i,[7,9,31])))\n",
    "# perfecto"
   ]
  },
  {
   "cell_type": "code",
   "execution_count": 115,
   "id": "db4bd4b0",
   "metadata": {
    "ExecuteTime": {
     "end_time": "2021-10-24T22:18:38.592254Z",
     "start_time": "2021-10-24T22:18:38.580671Z"
    }
   },
   "outputs": [
    {
     "name": "stdout",
     "output_type": "stream",
     "text": [
      "0\tTrue\n",
      "1\tFalse\n",
      "2\tFalse\n",
      "3\tTrue\n",
      "4\tFalse\n",
      "5\tFalse\n",
      "6\tTrue\n",
      "7\tTrue\n",
      "8\tFalse\n",
      "9\tTrue\n"
     ]
    }
   ],
   "source": [
    "for i in range(10):\n",
    "    print(str(i) + \"\\t\" + str(Pertenece(i,[3,7,11])))\n",
    "# perfecto"
   ]
  },
  {
   "cell_type": "code",
   "execution_count": 116,
   "id": "282bb8fc",
   "metadata": {
    "ExecuteTime": {
     "end_time": "2021-10-24T22:19:19.727398Z",
     "start_time": "2021-10-24T22:19:19.697433Z"
    }
   },
   "outputs": [
    {
     "name": "stdout",
     "output_type": "stream",
     "text": [
      "0\tTrue\n",
      "1\tFalse\n",
      "2\tFalse\n",
      "3\tFalse\n",
      "4\tTrue\n",
      "5\tFalse\n",
      "6\tFalse\n",
      "7\tFalse\n",
      "8\tTrue\n",
      "9\tFalse\n",
      "10\tFalse\n",
      "11\tFalse\n",
      "12\tTrue\n",
      "13\tTrue\n",
      "14\tFalse\n",
      "15\tTrue\n",
      "16\tTrue\n",
      "17\tTrue\n",
      "18\tFalse\n",
      "19\tTrue\n",
      "20\tTrue\n",
      "21\tTrue\n",
      "22\tFalse\n",
      "23\tTrue\n"
     ]
    }
   ],
   "source": [
    "for i in range(24):\n",
    "    print(str(i) + \"\\t\" + str(Pertenece(i,[4,13,15])))\n",
    "# perfecto"
   ]
  },
  {
   "cell_type": "code",
   "execution_count": 117,
   "id": "7dd24258",
   "metadata": {
    "ExecuteTime": {
     "end_time": "2021-10-24T22:20:21.885611Z",
     "start_time": "2021-10-24T22:20:21.867218Z"
    }
   },
   "outputs": [
    {
     "name": "stdout",
     "output_type": "stream",
     "text": [
      "0\tTrue\n",
      "1\tFalse\n",
      "2\tFalse\n",
      "3\tFalse\n",
      "4\tFalse\n",
      "5\tFalse\n",
      "6\tFalse\n",
      "7\tTrue\n",
      "8\tFalse\n",
      "9\tFalse\n",
      "10\tFalse\n",
      "11\tFalse\n",
      "12\tFalse\n",
      "13\tFalse\n",
      "14\tTrue\n",
      "15\tTrue\n",
      "16\tFalse\n",
      "17\tFalse\n",
      "18\tFalse\n",
      "19\tFalse\n",
      "20\tTrue\n",
      "21\tTrue\n",
      "22\tTrue\n",
      "23\tFalse\n",
      "24\tFalse\n",
      "25\tFalse\n",
      "26\tFalse\n",
      "27\tTrue\n",
      "28\tTrue\n",
      "29\tTrue\n",
      "30\tTrue\n",
      "31\tFalse\n",
      "32\tFalse\n",
      "33\tFalse\n",
      "34\tTrue\n",
      "35\tTrue\n",
      "36\tTrue\n",
      "37\tTrue\n",
      "38\tFalse\n",
      "39\tFalse\n",
      "40\tTrue\n"
     ]
    }
   ],
   "source": [
    "for i in range(41):\n",
    "    print(str(i) + \"\\t\" + str(Pertenece(i,[7,15,20,46,53])))\n",
    "# perfecto"
   ]
  },
  {
   "cell_type": "markdown",
   "id": "94aa986f",
   "metadata": {},
   "source": [
    "# Ejercicio 2"
   ]
  },
  {
   "cell_type": "code",
   "execution_count": 48,
   "id": "63df7cc5",
   "metadata": {
    "ExecuteTime": {
     "end_time": "2021-10-26T22:48:13.887734Z",
     "start_time": "2021-10-26T22:48:13.870734Z"
    }
   },
   "outputs": [
    {
     "ename": "ModuleNotFoundError",
     "evalue": "No module named 'NumPy'",
     "output_type": "error",
     "traceback": [
      "\u001b[1;31m---------------------------------------------------------------------------\u001b[0m",
      "\u001b[1;31mModuleNotFoundError\u001b[0m                       Traceback (most recent call last)",
      "\u001b[1;32m<ipython-input-48-fcd412277478>\u001b[0m in \u001b[0;36m<module>\u001b[1;34m\u001b[0m\n\u001b[0;32m      1\u001b[0m \u001b[1;32mimport\u001b[0m \u001b[0mmath\u001b[0m\u001b[1;33m\u001b[0m\u001b[1;33m\u001b[0m\u001b[0m\n\u001b[0;32m      2\u001b[0m \u001b[1;32mimport\u001b[0m \u001b[0mfunctools\u001b[0m\u001b[1;33m\u001b[0m\u001b[1;33m\u001b[0m\u001b[0m\n\u001b[1;32m----> 3\u001b[1;33m \u001b[1;32mimport\u001b[0m \u001b[0mNumPy\u001b[0m\u001b[1;33m\u001b[0m\u001b[1;33m\u001b[0m\u001b[0m\n\u001b[0m",
      "\u001b[1;31mModuleNotFoundError\u001b[0m: No module named 'NumPy'"
     ]
    }
   ],
   "source": [
    "import math\n",
    "import functools"
   ]
  },
  {
   "cell_type": "code",
   "execution_count": 60,
   "id": "9faac994",
   "metadata": {
    "ExecuteTime": {
     "end_time": "2021-10-26T22:52:08.557910Z",
     "start_time": "2021-10-26T22:52:08.552906Z"
    }
   },
   "outputs": [],
   "source": [
    "def MCD(A):\n",
    "    return functools.reduce(math.gcd,A)"
   ]
  },
  {
   "cell_type": "markdown",
   "id": "9002505c",
   "metadata": {},
   "source": [
    "## Prueba maximo comun divisor"
   ]
  },
  {
   "cell_type": "code",
   "execution_count": 63,
   "id": "630a5f7d",
   "metadata": {
    "ExecuteTime": {
     "end_time": "2021-10-26T22:52:53.291881Z",
     "start_time": "2021-10-26T22:52:53.281883Z"
    }
   },
   "outputs": [
    {
     "name": "stdout",
     "output_type": "stream",
     "text": [
      "2\n",
      "1\n"
     ]
    }
   ],
   "source": [
    "print(MCD([2,4,6]))\n",
    "print(MCD([2,5,6]))"
   ]
  },
  {
   "cell_type": "code",
   "execution_count": 65,
   "id": "969d0bd8",
   "metadata": {
    "ExecuteTime": {
     "end_time": "2021-10-26T22:55:01.238483Z",
     "start_time": "2021-10-26T22:55:01.232482Z"
    }
   },
   "outputs": [],
   "source": [
    "def NumericoNoNumerico(A):\n",
    "    if MCD(A) == 1:\n",
    "        return True\n",
    "    return \"El sistema generador no es numerico.\""
   ]
  },
  {
   "cell_type": "code",
   "execution_count": 59,
   "id": "3fc9512f",
   "metadata": {
    "ExecuteTime": {
     "end_time": "2021-10-26T22:51:51.425230Z",
     "start_time": "2021-10-26T22:51:51.413231Z"
    }
   },
   "outputs": [],
   "source": [
    "def AperySet(A):\n",
    "    AperySet = []\n",
    "    i = 1\n",
    "    while len(AperySet) < min(A):\n",
    "        if Pertenece(i,A) and Pertenece(i-min(A),A) == False:\n",
    "            AperySet.append(i)\n",
    "        i = i + 1\n",
    "    return AperySet"
   ]
  },
  {
   "cell_type": "markdown",
   "id": "feabaae9",
   "metadata": {},
   "source": [
    "## Prueba AperySet\n",
    "\n",
    "#### Con el for de abajo podemos comprobar si el apery esta bien formado"
   ]
  },
  {
   "cell_type": "code",
   "execution_count": 16,
   "id": "98e13bf7",
   "metadata": {
    "ExecuteTime": {
     "end_time": "2021-10-26T22:04:35.384340Z",
     "start_time": "2021-10-26T22:04:35.349331Z"
    }
   },
   "outputs": [
    {
     "data": {
      "text/plain": [
       "[15, 29, 30, 45, 47, 60, 61]"
      ]
     },
     "execution_count": 16,
     "metadata": {},
     "output_type": "execute_result"
    }
   ],
   "source": [
    "AperySet([7, 15, 21, 47])"
   ]
  },
  {
   "cell_type": "code",
   "execution_count": 17,
   "id": "174395bb",
   "metadata": {
    "ExecuteTime": {
     "end_time": "2021-10-26T22:08:40.483729Z",
     "start_time": "2021-10-26T22:08:40.461734Z"
    }
   },
   "outputs": [
    {
     "name": "stdout",
     "output_type": "stream",
     "text": [
      "0\tTrue\n",
      "1\tFalse\n",
      "2\tFalse\n",
      "3\tFalse\n",
      "4\tFalse\n",
      "5\tFalse\n",
      "6\tFalse\n",
      "7\tTrue\n",
      "8\tFalse\n",
      "9\tFalse\n",
      "10\tFalse\n",
      "11\tFalse\n",
      "12\tFalse\n",
      "13\tFalse\n",
      "14\tTrue\n",
      "15\tTrue\n",
      "16\tFalse\n",
      "17\tFalse\n",
      "18\tFalse\n",
      "19\tFalse\n",
      "20\tFalse\n",
      "21\tTrue\n",
      "22\tFalse\n",
      "23\tFalse\n",
      "24\tFalse\n",
      "25\tFalse\n",
      "26\tFalse\n",
      "27\tFalse\n",
      "28\tTrue\n",
      "29\tTrue\n",
      "30\tTrue\n",
      "31\tFalse\n",
      "32\tFalse\n",
      "33\tFalse\n",
      "34\tFalse\n",
      "35\tTrue\n",
      "36\tTrue\n",
      "37\tTrue\n",
      "38\tFalse\n",
      "39\tFalse\n",
      "40\tFalse\n",
      "41\tFalse\n",
      "42\tTrue\n",
      "43\tTrue\n",
      "44\tTrue\n",
      "45\tTrue\n",
      "46\tFalse\n",
      "47\tTrue\n",
      "48\tFalse\n",
      "49\tTrue\n",
      "50\tTrue\n",
      "51\tTrue\n",
      "52\tTrue\n",
      "53\tFalse\n",
      "54\tFalse\n",
      "55\tFalse\n",
      "56\tTrue\n",
      "57\tTrue\n",
      "58\tTrue\n",
      "59\tTrue\n",
      "60\tTrue\n",
      "61\tTrue\n"
     ]
    }
   ],
   "source": [
    "for i in range(62):\n",
    "    print(str(i) + \"\\t\" + str(Pertenece(i,[7, 15, 21, 47])))"
   ]
  },
  {
   "cell_type": "code",
   "execution_count": 70,
   "id": "70e65373",
   "metadata": {
    "ExecuteTime": {
     "end_time": "2021-10-26T23:00:34.639358Z",
     "start_time": "2021-10-26T23:00:34.630362Z"
    }
   },
   "outputs": [],
   "source": [
    "def Generador(A):\n",
    "    NumericoNoNumerico(A)\n",
    "    SubgrupoGenerado = []\n",
    "    print(AperySet(A))\n",
    "    for i in range(max(AperySet(A))):\n",
    "        if Pertenece(i,A):\n",
    "            SubgrupoGenerado.append(i)\n",
    "    return SubgrupoGenerado"
   ]
  },
  {
   "cell_type": "markdown",
   "id": "4ddf0b3e",
   "metadata": {},
   "source": [
    "## Prueba Generador\n",
    "\n",
    "### NO FUNCIONA BIEN"
   ]
  },
  {
   "cell_type": "code",
   "execution_count": 71,
   "id": "452cc43c",
   "metadata": {
    "ExecuteTime": {
     "end_time": "2021-10-26T23:00:35.477975Z",
     "start_time": "2021-10-26T23:00:35.448990Z"
    }
   },
   "outputs": [
    {
     "name": "stdout",
     "output_type": "stream",
     "text": [
      "[15, 20, 29, 30, 34, 40, 45]\n"
     ]
    },
    {
     "data": {
      "text/plain": [
       "[0, 7, 14, 15, 20, 21, 28, 29, 30, 34, 35, 36, 37, 40, 41, 42, 43, 44]"
      ]
     },
     "execution_count": 71,
     "metadata": {},
     "output_type": "execute_result"
    }
   ],
   "source": [
    "Generador([7,15,20,46,53])"
   ]
  },
  {
   "cell_type": "code",
   "execution_count": null,
   "id": "03022d71",
   "metadata": {},
   "outputs": [],
   "source": []
  }
 ],
 "metadata": {
  "kernelspec": {
   "display_name": "Python 3",
   "language": "python",
   "name": "python3"
  },
  "language_info": {
   "codemirror_mode": {
    "name": "ipython",
    "version": 3
   },
   "file_extension": ".py",
   "mimetype": "text/x-python",
   "name": "python",
   "nbconvert_exporter": "python",
   "pygments_lexer": "ipython3",
   "version": "3.8.8"
  },
  "latex_envs": {
   "LaTeX_envs_menu_present": true,
   "autoclose": false,
   "autocomplete": true,
   "bibliofile": "biblio.bib",
   "cite_by": "apalike",
   "current_citInitial": 1,
   "eqLabelWithNumbers": true,
   "eqNumInitial": 1,
   "hotkeys": {
    "equation": "Ctrl-E",
    "itemize": "Ctrl-I"
   },
   "labels_anchors": false,
   "latex_user_defs": false,
   "report_style_numbering": false,
   "user_envs_cfg": false
  }
 },
 "nbformat": 4,
 "nbformat_minor": 5
}
