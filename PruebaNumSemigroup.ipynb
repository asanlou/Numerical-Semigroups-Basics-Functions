{
 "cells": [
  {
   "cell_type": "markdown",
   "metadata": {},
   "source": [
    "# Paquetes que a lo mejor hay que instalar"
   ]
  },
  {
   "cell_type": "code",
   "execution_count": null,
   "metadata": {
    "ExecuteTime": {
     "end_time": "2021-10-26T11:37:46.672331Z",
     "start_time": "2021-10-26T11:37:42.153028Z"
    }
   },
   "outputs": [],
   "source": [
    "!pip install more-itertools"
   ]
  },
  {
   "cell_type": "markdown",
   "metadata": {},
   "source": [
    "# Paquetes"
   ]
  },
  {
   "cell_type": "code",
   "execution_count": 3,
   "metadata": {
    "ExecuteTime": {
     "end_time": "2021-10-27T10:10:14.371077Z",
     "start_time": "2021-10-27T10:10:14.057884Z"
    }
   },
   "outputs": [],
   "source": [
    "import itertools as itls\n",
    "import math\n",
    "import numpy as np"
   ]
  },
  {
   "cell_type": "markdown",
   "metadata": {},
   "source": [
    "# Funciones"
   ]
  },
  {
   "cell_type": "markdown",
   "metadata": {},
   "source": [
    "## Problema 1"
   ]
  },
  {
   "cell_type": "markdown",
   "metadata": {
    "heading_collapsed": true
   },
   "source": [
    "### Basicas"
   ]
  },
  {
   "cell_type": "code",
   "execution_count": null,
   "metadata": {
    "ExecuteTime": {
     "end_time": "2021-10-27T17:05:50.978238Z",
     "start_time": "2021-10-27T17:05:50.968237Z"
    },
    "hidden": true
   },
   "outputs": [],
   "source": [
    "def Esta(x,geners):\n",
    "    return print(str(x) + \" pertenece a <\"+str(geners)+\">\")\n",
    "    "
   ]
  },
  {
   "cell_type": "code",
   "execution_count": null,
   "metadata": {
    "ExecuteTime": {
     "end_time": "2021-10-24T16:42:57.995770Z",
     "start_time": "2021-10-24T16:42:57.990771Z"
    },
    "hidden": true
   },
   "outputs": [],
   "source": [
    "def NoEsta(x,geners):\n",
    "    return print(str(x) + \" no pertenece a <\"+str(geners)+\">\")"
   ]
  },
  {
   "cell_type": "code",
   "execution_count": null,
   "metadata": {
    "ExecuteTime": {
     "end_time": "2021-10-24T16:42:58.248869Z",
     "start_time": "2021-10-24T16:42:58.241867Z"
    },
    "hidden": true
   },
   "outputs": [],
   "source": [
    "def SumaConjuntos(x,L1,L2): #Suma los elementos de dos conjuntos. Pasar listas.\n",
    "    L3 = []\n",
    "    for a in L1:\n",
    "        for b in L2:\n",
    "            if a+b<=x:\n",
    "                L3.append(a+b)\n",
    "    L3 = list(set(L3))\n",
    "    return L3"
   ]
  },
  {
   "cell_type": "code",
   "execution_count": null,
   "metadata": {
    "ExecuteTime": {
     "end_time": "2021-10-24T16:42:58.480218Z",
     "start_time": "2021-10-24T16:42:58.474249Z"
    },
    "hidden": true
   },
   "outputs": [],
   "source": [
    "def SumaConjuntosY(x,L1,L2): #Suma los elementos de dos conjuntos. Pasar listas.\n",
    "    for a in L1:\n",
    "        for b in L2:\n",
    "            if a+b<=x:\n",
    "                yield a+b"
   ]
  },
  {
   "cell_type": "code",
   "execution_count": null,
   "metadata": {
    "ExecuteTime": {
     "end_time": "2021-10-24T16:42:58.762582Z",
     "start_time": "2021-10-24T16:42:58.756592Z"
    },
    "hidden": true
   },
   "outputs": [],
   "source": [
    "def ListaMultiplos(x,a):\n",
    "    L = [int(i) for i in range(x+1) if i%a==0]\n",
    "    return L"
   ]
  },
  {
   "cell_type": "code",
   "execution_count": null,
   "metadata": {
    "ExecuteTime": {
     "end_time": "2021-10-24T16:42:59.010027Z",
     "start_time": "2021-10-24T16:42:59.004025Z"
    },
    "hidden": true
   },
   "outputs": [],
   "source": [
    "def ListaMultiplosY(x,a):\n",
    "    for i in range(x+1):\n",
    "        if i%a == 0:\n",
    "            yield i"
   ]
  },
  {
   "cell_type": "code",
   "execution_count": null,
   "metadata": {
    "ExecuteTime": {
     "end_time": "2021-10-24T16:42:59.270498Z",
     "start_time": "2021-10-24T16:42:59.264498Z"
    },
    "hidden": true
   },
   "outputs": [],
   "source": [
    "def GenerarSN(x,geners):\n",
    "    nS=list([0])\n",
    "    for i in geners:\n",
    "        nS=SumaConjuntos(x,ListaMultiplos(x,i),nS)\n",
    "    return nS"
   ]
  },
  {
   "cell_type": "code",
   "execution_count": null,
   "metadata": {
    "ExecuteTime": {
     "end_time": "2021-10-24T16:42:59.536956Z",
     "start_time": "2021-10-24T16:42:59.529954Z"
    },
    "hidden": true
   },
   "outputs": [],
   "source": [
    "def GenerarSNY(x,geners):\n",
    "    nS=[]\n",
    "    for i in geners:\n",
    "        nS=SumaConjuntos(x,ListaMultiplos(x,i),nS)\n",
    "    "
   ]
  },
  {
   "cell_type": "code",
   "execution_count": null,
   "metadata": {
    "ExecuteTime": {
     "end_time": "2021-10-24T16:43:29.811525Z",
     "start_time": "2021-10-24T16:43:29.806524Z"
    },
    "hidden": true
   },
   "outputs": [],
   "source": [
    "def NoHayOtra(x,geners):\n",
    "    \n",
    "    \n",
    "    "
   ]
  },
  {
   "cell_type": "markdown",
   "metadata": {
    "heading_collapsed": true
   },
   "source": [
    "### Tochas"
   ]
  },
  {
   "cell_type": "code",
   "execution_count": null,
   "metadata": {
    "ExecuteTime": {
     "end_time": "2021-10-27T16:57:15.845290Z",
     "start_time": "2021-10-27T16:57:15.824292Z"
    },
    "hidden": true
   },
   "outputs": [],
   "source": [
    "def Pertenece(x,geners):\n",
    "    #Comprobación de si los generadores están bien dados\n",
    "    if(type(geners) != list):\n",
    "        raise Exception(\"Se deben introducir los generadores en una lista\")\n",
    "    \n",
    "    elif(len(geners) == 0):\n",
    "        raise Execption(\"Debe haber al menos un generador\")\n",
    "    \n",
    "    try:\n",
    "        geners = [int(i) for i in geners]\n",
    "    except:\n",
    "        raise Exception(\"Uno de los generadores no es un entero\")\n",
    "    \n",
    "    geners = sorted(list(geners))\n",
    "    \n",
    "    try:\n",
    "        x = int(x)\n",
    "    except:\n",
    "        raise Exception(\"El elemento a estudiar debe ser un entero.\")\n",
    "        \n",
    "    if x == 0:\n",
    "        return Esta(x,geners)\n",
    "    elif x<0:\n",
    "        return NoEsta(x,geners)\n",
    "    elif 1 in geners:\n",
    "        return Esta(x,geners)\n",
    "\n",
    "    #ESTARIA BIEN METER MINIMALES AQUI-------\n",
    "    \n",
    "    else:\n",
    "        nS=[0]\n",
    "        for i in geners:\n",
    "            nS = SumaConjuntos(x,ListaMultiplos(x,i),nS)\n",
    "            if x in nS:\n",
    "                return Esta(x,geners)\n",
    "    \n",
    "    print(\"he llehao pixa\")    \n",
    "    return NoEsta(x,geners)        "
   ]
  },
  {
   "cell_type": "code",
   "execution_count": null,
   "metadata": {
    "ExecuteTime": {
     "end_time": "2021-10-27T16:57:24.728294Z",
     "start_time": "2021-10-27T16:57:24.708306Z"
    },
    "hidden": true
   },
   "outputs": [],
   "source": [
    "def PerteneceYield(x,geners):\n",
    "    #Comprobación de si los generadores están bien dados\n",
    "    if(type(geners) != list):\n",
    "        raise Exception(\"Se deben introducir los generadores en una lista\")\n",
    "    \n",
    "    elif(len(geners) == 0):\n",
    "        raise Execption(\"Debe haber al menos un generador\")\n",
    "    \n",
    "    try:\n",
    "        geners = [int(i) for i in geners]\n",
    "    except:\n",
    "        raise Exception(\"Uno de los generadores no es un entero\")\n",
    "    \n",
    "    geners = sorted(list(geners))\n",
    "    \n",
    "    try:\n",
    "        x = int(x)\n",
    "    except:\n",
    "        raise Exception(\"El elemento a estudiar debe ser un entero.\")\n",
    "        \n",
    "    if x == 0:\n",
    "        return Esta(x,geners)\n",
    "    elif x<0:\n",
    "        return NoEsta(x,geners)\n",
    "    elif 1 in geners:\n",
    "        return Esta(x,geners)    \n",
    "    else:\n",
    "        nS=[0]\n",
    "        nSAux=[0]\n",
    "        \n",
    "        for i in geners:\n",
    "            nS=SumaConjuntosY(x,ListaMultiplosY(x,i),nS)\n",
    "            nSAux=SumaConjuntosY(x,ListaMultiplosY(x,i),nS)\n",
    "            for i in nSAux:\n",
    "                if x%i==0:\n",
    "                    nS.append()\n",
    "                    print(\"iin pa dentro\")\n",
    "                    return Esta(x,geners)\n",
    "    \n",
    "    print(\"hellegaopixon\")\n",
    "    return NoEsta(x,geners)  "
   ]
  },
  {
   "cell_type": "code",
   "execution_count": null,
   "metadata": {
    "ExecuteTime": {
     "end_time": "2021-10-27T21:17:48.122767Z",
     "start_time": "2021-10-27T21:17:48.118764Z"
    },
    "hidden": true
   },
   "outputs": [],
   "source": [
    "def AlbertPerte(x,geners):\n",
    "    #Comprobación de si los generadores están bien dados     \n",
    "    if x == 0:\n",
    "        return True\n",
    "    \n",
    "    elif x < 0:\n",
    "        return False\n",
    "    \n",
    "    elif len(A) == 1 and x % A[0] == 0:\n",
    "        return True\n",
    "    \n",
    "    elif len(A) == 1:\n",
    "        return False\n",
    "    \n",
    "    f=A[0]\n",
    "    A.pop(0)\n",
    "    \n",
    "    return AlbertPerte(x,A) or AlbertPerte(x-f,sorted(A+[f]))"
   ]
  },
  {
   "cell_type": "code",
   "execution_count": null,
   "metadata": {
    "hidden": true
   },
   "outputs": [],
   "source": [
    "def AlbertPerteV(x,geners,verb=False):\n",
    "    #Comprobación de si los generadores están bien dados     \n",
    "    if x == 0:\n",
    "        if verb:\n",
    "            print(\"cero\")\n",
    "        return True\n",
    "    \n",
    "    elif x < 0:\n",
    "        if verb:\n",
    "            print(\"neg\")\n",
    "        return False\n",
    "    \n",
    "    elif len(A) == 1 and x % A[0] == 0:\n",
    "        if verb: \n",
    "            print(\"esta\")\n",
    "        return True\n",
    "    \n",
    "    elif len(A) == 1:\n",
    "        return False\n",
    "    \n",
    "    f=A[0]\n",
    "    A.pop(0)\n",
    "    \n",
    "    return AlbertPerte(x,A) or AlbertPerte(x-f,sorted(A+[f]))\n"
   ]
  },
  {
   "cell_type": "markdown",
   "metadata": {},
   "source": [
    "## Problema 2"
   ]
  },
  {
   "cell_type": "markdown",
   "metadata": {
    "heading_collapsed": true
   },
   "source": [
    "### Pertenece x en semigrupo"
   ]
  },
  {
   "cell_type": "code",
   "execution_count": 4,
   "metadata": {
    "ExecuteTime": {
     "end_time": "2021-10-27T10:10:19.847305Z",
     "start_time": "2021-10-27T10:10:19.834309Z"
    },
    "hidden": true
   },
   "outputs": [],
   "source": [
    "def PerteAlberto(x,A):\n",
    "    #Comprobación de si los generadores están bien dados   \n",
    "    geners=list(A)\n",
    "    if x == 0:\n",
    "        return True\n",
    "    \n",
    "    elif x < 0:\n",
    "        return False\n",
    "    \n",
    "    elif len(geners) == 1 and x % geners[0] == 0:\n",
    "        return True\n",
    "    \n",
    "    elif len(geners) == 1:\n",
    "        return False\n",
    "    \n",
    "    f=geners[0]\n",
    "    geners.pop(0)\n",
    "    \n",
    "    return PerteAlberto(x,geners) or PerteAlberto(x-f,[f]+geners)"
   ]
  },
  {
   "cell_type": "markdown",
   "metadata": {
    "heading_collapsed": true
   },
   "source": [
    "### Es Semigrupo Numerico"
   ]
  },
  {
   "cell_type": "code",
   "execution_count": 5,
   "metadata": {
    "ExecuteTime": {
     "end_time": "2021-10-27T10:10:20.565780Z",
     "start_time": "2021-10-27T10:10:20.378215Z"
    },
    "hidden": true
   },
   "outputs": [],
   "source": [
    "def EsSN(geners):\n",
    "    if(type(geners) != list):\n",
    "        raise Exception(\"Se deben introducir los generadores en una lista\")\n",
    "    \n",
    "    elif(len(geners) == 0):\n",
    "        raise Execption(\"Debe haber al menos un generador\")\n",
    "    \n",
    "    try:\n",
    "        geners = [int(i) for i in geners]\n",
    "    except:\n",
    "        raise Exception(\"Uno de los generadores no es un entero\")\n",
    "        \n",
    "    geners = sorted(geners)\n",
    "    \n",
    "    if np.gcd.reduce(geners)==1:\n",
    "        return geners\n",
    "    else: \n",
    "        raise Exception(\"Debe ser semigrupo numerico\")"
   ]
  },
  {
   "cell_type": "markdown",
   "metadata": {
    "heading_collapsed": true
   },
   "source": [
    "### Generador SN con cota"
   ]
  },
  {
   "cell_type": "code",
   "execution_count": 6,
   "metadata": {
    "ExecuteTime": {
     "end_time": "2021-10-27T10:10:20.891781Z",
     "start_time": "2021-10-27T10:10:20.884783Z"
    },
    "hidden": true
   },
   "outputs": [],
   "source": [
    "def GenInfSN(geners,ini=0):\n",
    "    iter1 = itls.count(ini)\n",
    "    \n",
    "    ayuda = lambda x: not PerteAlberto(x,geners)\n",
    "    \n",
    "    return itls.filterfalse(ayuda,iter1)"
   ]
  },
  {
   "cell_type": "markdown",
   "metadata": {
    "heading_collapsed": true
   },
   "source": [
    "### Conjunto Apery"
   ]
  },
  {
   "cell_type": "code",
   "execution_count": 7,
   "metadata": {
    "ExecuteTime": {
     "end_time": "2021-10-27T10:10:21.368600Z",
     "start_time": "2021-10-27T10:10:21.360606Z"
    },
    "hidden": true
   },
   "outputs": [],
   "source": [
    "def ConjApery(geners):\n",
    "    mGeners = min(geners)\n",
    "    \n",
    "    apery = list(itls.repeat(0, mGeners)) \n",
    "    \n",
    "    genSN=GenInfSN(geners,mGeners+1)\n",
    "    \n",
    "    for i in genSN:\n",
    "        p = i%mGeners\n",
    "        if apery[p] == 0:\n",
    "            apery[p] = i\n",
    "        elif 0 not in apery:\n",
    "            return apery"
   ]
  },
  {
   "cell_type": "markdown",
   "metadata": {
    "heading_collapsed": true
   },
   "source": [
    "### Generador SN con maxApery"
   ]
  },
  {
   "cell_type": "code",
   "execution_count": 8,
   "metadata": {
    "ExecuteTime": {
     "end_time": "2021-10-27T10:10:22.060479Z",
     "start_time": "2021-10-27T10:10:22.052494Z"
    },
    "hidden": true
   },
   "outputs": [],
   "source": [
    "def GeneradorSN(geners,verb=False):\n",
    "    \n",
    "    geners = EsSN(geners)\n",
    "    \n",
    "    apery = ConjApery(geners)\n",
    "    \n",
    "    maxApery = max(apery)\n",
    "    \n",
    "    if verb:\n",
    "        print(str(geners)+\" es un semigrupo numérico.\",end=\"\\n\\n\")\n",
    "        print(\"Apery(\"+str(geners)+\",\"+str(maxApery)+\") = \"+str(apery))\n",
    "        print(\"max(Apery)= \" + str(maxApery))\n",
    "        \n",
    "    genSN = GenInfSN(geners)\n",
    "    \n",
    "    return itls.takewhile(lambda x: x<maxApery,genSN)"
   ]
  },
  {
   "cell_type": "markdown",
   "metadata": {
    "heading_collapsed": true
   },
   "source": [
    "### Generador SN con maxApery directo"
   ]
  },
  {
   "cell_type": "code",
   "execution_count": 9,
   "metadata": {
    "ExecuteTime": {
     "end_time": "2021-10-27T10:10:23.023352Z",
     "start_time": "2021-10-27T10:10:23.016363Z"
    },
    "hidden": true
   },
   "outputs": [],
   "source": [
    "def GenSNMaxApery(geners,verb=False):\n",
    "    mGeners = min(geners)\n",
    "    \n",
    "    apery = list(itls.repeat(0, mGeners)) \n",
    "    \n",
    "    genSN = GenInfSN(geners,mGeners+1)\n",
    "    \n",
    "    yield 0\n",
    "    yield mGeners\n",
    "    \n",
    "    for i in genSN:\n",
    "        p = i%mGeners\n",
    "        if apery[p] == 0:\n",
    "            apery[p] = i\n",
    "            yield i\n",
    "        elif 0 not in apery:\n",
    "            if verb:\n",
    "                maxApery = max(apery)\n",
    "                \n",
    "                print(\"\\n\"+str(geners)+\" es un semigrupo numérico.\",end=\"\\n\\n\")\n",
    "                print(\"Apery(\"+str(geners)+\",\"+str(maxApery)+\") = \"+str(apery))\n",
    "                print(\"max(Apery)= \" + str(maxApery)) \n",
    "            return\n",
    "        else:\n",
    "            yield i"
   ]
  },
  {
   "cell_type": "code",
   "execution_count": 10,
   "metadata": {
    "ExecuteTime": {
     "end_time": "2021-10-27T10:10:24.010619Z",
     "start_time": "2021-10-27T10:10:24.006621Z"
    },
    "hidden": true
   },
   "outputs": [],
   "source": [
    "def GeneradorSN2(geners,verb=False):\n",
    "    geners = EsSN(geners)\n",
    "    \n",
    "    return GenSNMaxApery(geners,verb)"
   ]
  },
  {
   "cell_type": "markdown",
   "metadata": {},
   "source": [
    "# Probando"
   ]
  },
  {
   "cell_type": "markdown",
   "metadata": {
    "heading_collapsed": true
   },
   "source": [
    "## Problema 1"
   ]
  },
  {
   "cell_type": "code",
   "execution_count": null,
   "metadata": {
    "ExecuteTime": {
     "end_time": "2021-10-24T16:33:22.703093Z",
     "start_time": "2021-10-24T16:33:22.684091Z"
    },
    "hidden": true
   },
   "outputs": [],
   "source": [
    "#Cositas probando:\n",
    "A=[2,3]\n",
    "A.remove(2)\n",
    "\n",
    "#Suma de conjs suma las listas y sorted la ordena.\n",
    "sorted(A+[2])\n",
    "\n",
    "#Hago lista en conjunto y puedo restar,...\n",
    "set([2,34,3])-set([34])\n",
    "\n",
    "a=list([1,2,3])\n",
    "print(a)\n",
    "print(\"hola\"+ str(a))"
   ]
  },
  {
   "cell_type": "code",
   "execution_count": null,
   "metadata": {
    "ExecuteTime": {
     "end_time": "2021-10-24T16:49:51.669066Z",
     "start_time": "2021-10-24T16:49:51.562069Z"
    },
    "hidden": true,
    "scrolled": true
   },
   "outputs": [],
   "source": [
    "geners= list([7,15,21,47])\n",
    "PerteneceYield(239443,geners)"
   ]
  },
  {
   "cell_type": "code",
   "execution_count": null,
   "metadata": {
    "ExecuteTime": {
     "end_time": "2021-10-24T16:44:00.599940Z",
     "start_time": "2021-10-24T16:44:00.581942Z"
    },
    "hidden": true
   },
   "outputs": [],
   "source": [
    "AlbertPerte(239443,[7,15,21,47],False)"
   ]
  },
  {
   "cell_type": "code",
   "execution_count": null,
   "metadata": {
    "ExecuteTime": {
     "end_time": "2021-10-24T16:50:46.724716Z",
     "start_time": "2021-10-24T16:50:46.583720Z"
    },
    "hidden": true
   },
   "outputs": [],
   "source": [
    "geners= [7,15,21,47]\n",
    "x=239443\n",
    "\n",
    "nS=[]\n",
    "\n",
    "for i in geners:\n",
    "    nS=SumaConjuntosY(x,ListaMultiplosY(x,i),nS)\n",
    "    nS=nSAux\n",
    "    if x in nS:\n",
    "        print(\"iin pa dentro\")"
   ]
  },
  {
   "cell_type": "code",
   "execution_count": null,
   "metadata": {
    "ExecuteTime": {
     "end_time": "2021-10-24T16:59:16.834568Z",
     "start_time": "2021-10-24T16:59:16.828567Z"
    },
    "hidden": true,
    "scrolled": true
   },
   "outputs": [],
   "source": [
    "nS=SumaConjuntosY(239443,ListaMultiplosY(239443,7),[0])\n",
    "nSAux=nS"
   ]
  },
  {
   "cell_type": "code",
   "execution_count": null,
   "metadata": {
    "ExecuteTime": {
     "end_time": "2021-10-24T16:59:18.451932Z",
     "start_time": "2021-10-24T16:59:18.443932Z"
    },
    "hidden": true
   },
   "outputs": [],
   "source": [
    "for i in nSAux:\n",
    "    print(i)\n",
    "    if i>50:\n",
    "        break\n",
    "\n",
    "for i in nS:\n",
    "    print(i)\n",
    "    if i>50:\n",
    "        break"
   ]
  },
  {
   "cell_type": "markdown",
   "metadata": {},
   "source": [
    "## Problema 2"
   ]
  },
  {
   "cell_type": "markdown",
   "metadata": {},
   "source": [
    "Definir generador:"
   ]
  },
  {
   "cell_type": "code",
   "execution_count": 11,
   "metadata": {
    "ExecuteTime": {
     "end_time": "2021-10-27T10:10:41.521918Z",
     "start_time": "2021-10-27T10:10:41.516920Z"
    }
   },
   "outputs": [],
   "source": [
    "A=[7,15,21,47]"
   ]
  },
  {
   "cell_type": "markdown",
   "metadata": {},
   "source": [
    "Ver si es SN(A)"
   ]
  },
  {
   "cell_type": "code",
   "execution_count": 12,
   "metadata": {
    "ExecuteTime": {
     "end_time": "2021-10-27T10:10:43.371836Z",
     "start_time": "2021-10-27T10:10:43.355828Z"
    },
    "scrolled": true
   },
   "outputs": [
    {
     "name": "stdout",
     "output_type": "stream",
     "text": [
      "True\n",
      "True\n",
      "[14, 15, 30, 45, 60, 47, 62]\n",
      "\n"
     ]
    }
   ],
   "source": [
    "geners = EsSN(A)\n",
    "print(True)\n",
    "print(PerteAlberto(14-7,geners))\n",
    "    \n",
    "apery=ConjApery(geners)\n",
    "print(apery,end=\"\\n\\n\")"
   ]
  },
  {
   "cell_type": "code",
   "execution_count": 13,
   "metadata": {
    "ExecuteTime": {
     "end_time": "2021-10-27T10:10:44.548303Z",
     "start_time": "2021-10-27T10:10:44.535342Z"
    }
   },
   "outputs": [
    {
     "name": "stdout",
     "output_type": "stream",
     "text": [
      "[0, 7, 14, 15, 21, 22, 28, 29, 30, 35, 36, 37, 42, 43, 44, 45, 47, 49, 50, 51, 52, 54, 56, 57, 58, 59, 60, 61]\n"
     ]
    }
   ],
   "source": [
    "genSN = GeneradorSN(A,False)\n",
    "listaSN = [i for i in genSN]\n",
    "print(listaSN)"
   ]
  },
  {
   "cell_type": "code",
   "execution_count": 14,
   "metadata": {
    "ExecuteTime": {
     "end_time": "2021-10-27T10:10:45.401402Z",
     "start_time": "2021-10-27T10:10:45.391403Z"
    }
   },
   "outputs": [
    {
     "name": "stdout",
     "output_type": "stream",
     "text": [
      "[0, 7, 14, 15, 21, 22, 28, 29, 30, 35, 36, 37, 42, 43, 44, 45, 47, 49, 50, 51, 52, 54, 56, 57, 58, 59, 60, 61, 62]\n"
     ]
    }
   ],
   "source": [
    "genSN2 = GeneradorSN2(A,False)\n",
    "listaSN2 = [i for i in genSN2]\n",
    "print(listaSN2)"
   ]
  }
 ],
 "metadata": {
  "kernelspec": {
   "display_name": "Python 3",
   "language": "python",
   "name": "python3"
  },
  "language_info": {
   "codemirror_mode": {
    "name": "ipython",
    "version": 3
   },
   "file_extension": ".py",
   "mimetype": "text/x-python",
   "name": "python",
   "nbconvert_exporter": "python",
   "pygments_lexer": "ipython3",
   "version": "3.8.5"
  },
  "latex_envs": {
   "LaTeX_envs_menu_present": true,
   "autoclose": false,
   "autocomplete": true,
   "bibliofile": "biblio.bib",
   "cite_by": "apalike",
   "current_citInitial": 1,
   "eqLabelWithNumbers": true,
   "eqNumInitial": 1,
   "hotkeys": {
    "equation": "Ctrl-E",
    "itemize": "Ctrl-I"
   },
   "labels_anchors": false,
   "latex_user_defs": false,
   "report_style_numbering": false,
   "user_envs_cfg": false
  }
 },
 "nbformat": 4,
 "nbformat_minor": 4
}
