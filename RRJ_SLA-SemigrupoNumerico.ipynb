{
 "cells": [
  {
   "cell_type": "markdown",
   "metadata": {},
   "source": [
    "# Programa para _Campeonato de Python_"
   ]
  },
  {
   "cell_type": "markdown",
   "metadata": {},
   "source": [
    "_Rincón Rangel, José_"
   ]
  },
  {
   "cell_type": "markdown",
   "metadata": {},
   "source": [
    "_Sánchez Loureiro, Adrián_"
   ]
  },
  {
   "cell_type": "markdown",
   "metadata": {},
   "source": [
    "Este trabajo es de elaboración propia, ayudándonos en el pseudocódigo recibido en la asignatura."
   ]
  },
  {
   "cell_type": "markdown",
   "metadata": {
    "heading_collapsed": true
   },
   "source": [
    "## Paquetes que a lo mejor hay que instalar"
   ]
  },
  {
   "cell_type": "code",
   "execution_count": 1,
   "metadata": {
    "ExecuteTime": {
     "end_time": "2021-11-04T15:14:25.156263Z",
     "start_time": "2021-11-04T15:14:25.148249Z"
    },
    "hidden": true
   },
   "outputs": [],
   "source": [
    "#!pip install numpy"
   ]
  },
  {
   "cell_type": "markdown",
   "metadata": {
    "heading_collapsed": true
   },
   "source": [
    "## Paquetes"
   ]
  },
  {
   "cell_type": "code",
   "execution_count": 2,
   "metadata": {
    "ExecuteTime": {
     "end_time": "2021-11-04T15:14:25.484253Z",
     "start_time": "2021-11-04T15:14:25.164247Z"
    },
    "hidden": true
   },
   "outputs": [],
   "source": [
    "import itertools as itls\n",
    "import math\n",
    "import numpy as np\n",
    "import timeit"
   ]
  },
  {
   "cell_type": "markdown",
   "metadata": {
    "heading_collapsed": true
   },
   "source": [
    "## Funciones"
   ]
  },
  {
   "cell_type": "markdown",
   "metadata": {
    "hidden": true
   },
   "source": [
    "Lista de funciones definidas:\n",
    "* EsSN\n",
    "* PerteSN\n",
    "* GenFinitoSN\n",
    "* ConjApery\n",
    "* GenSNMaxApery\n",
    "* GeneradorSN\n",
    "* ListaSN"
   ]
  },
  {
   "cell_type": "markdown",
   "metadata": {
    "heading_collapsed": true,
    "hidden": true
   },
   "source": [
    "### Es Semigrupo Numerico"
   ]
  },
  {
   "cell_type": "markdown",
   "metadata": {
    "hidden": true
   },
   "source": [
    "Dado:\n",
    "* $geners$, una lista de elementos.\n",
    "\n",
    "_EsSN(geners)_ comprueba si $<geners>$ es semigrupo numérico. \n",
    "\n",
    "Salida:\n",
    "* En caso afirmativo, devuelve la lista $geners$ ordenada y con sus elementos como enteros.\n",
    "* En caso contrario, devuelve un error y el motivo de este."
   ]
  },
  {
   "cell_type": "code",
   "execution_count": 3,
   "metadata": {
    "ExecuteTime": {
     "end_time": "2021-11-04T15:14:25.500251Z",
     "start_time": "2021-11-04T15:14:25.484253Z"
    },
    "hidden": true
   },
   "outputs": [],
   "source": [
    "def EsSN(geners):\n",
    "    # Comprobamos si \"geners\" es una lista.\n",
    "    if(type(geners) != list): \n",
    "        raise Exception(\"Se deben introducir los generadores en una lista.\")\n",
    "    \n",
    "    # Comprobamos si la lista es vacía\n",
    "    elif(len(geners) == 0): \n",
    "        raise Execption(\"Debe haber al menos un generador.\")\n",
    "    \n",
    "    # Ordenamos la lista y comprobamos si son enteros los elementos de \"geners\".\n",
    "    # Habrá algunos elementos que aunque no sean enteros, serán convertidos a este tipo.\n",
    "    try: \n",
    "        geners = sorted( [int(i) for i in geners] ) \n",
    "    except:\n",
    "        raise Exception(\"Uno de los generadores no es un entero.\")\n",
    "    \n",
    "    # Revisamos si mcd(geners)=1, es decir, si \"geners\" es generador de un SN.\n",
    "    if np.gcd.reduce(geners) == 1:\n",
    "        return geners\n",
    "    else: \n",
    "        raise Exception(\"Debe ser semigrupo numerico.\")"
   ]
  },
  {
   "cell_type": "markdown",
   "metadata": {
    "heading_collapsed": true,
    "hidden": true
   },
   "source": [
    "### Pertenece x en semigrupo"
   ]
  },
  {
   "cell_type": "markdown",
   "metadata": {
    "hidden": true
   },
   "source": [
    "Dado:\n",
    "* $geners$, una lista de enteros positivos que conforman un semigrupo numérico.\n",
    "* $x$ un número.\n",
    "\n",
    "_PerteSN(x,geners)_ comprueba si $x \\in <geners>$. \n",
    "\n",
    "Salida:\n",
    "* En caso afirmativo, devuelve $True$.\n",
    "* En caso contrario, devuelve $False$."
   ]
  },
  {
   "cell_type": "code",
   "execution_count": 4,
   "metadata": {
    "ExecuteTime": {
     "end_time": "2021-11-04T15:14:25.516249Z",
     "start_time": "2021-11-04T15:14:25.500251Z"
    },
    "hidden": true
   },
   "outputs": [],
   "source": [
    "def PerteSN(x,geners):\n",
    "    #Creamos otra lista para que no modifique la original \"geners\".\n",
    "    A=list(geners)\n",
    "    \n",
    "    if x == 0: # 0 está en cualquier semigrupo numérico\n",
    "        return True\n",
    "    \n",
    "    elif x < 0: # Los numéros negativos no están en el semigrupo. \n",
    "        # Tras varias operaciones en x, si x modificado no ha llegado a anularse\n",
    "        # este se hará negativo, concluyéndose no está.\n",
    "        return False\n",
    "    \n",
    "    elif len(A) == 1 and x % A[0] == 0: \n",
    "        return True\n",
    "    \n",
    "    elif len( A) == 1: # Al ser \"len(A)=1\" y \"x%A[0]!=0\", x no es parte del semigrupo.\n",
    "        return False\n",
    "    \n",
    "    f= A[0]\n",
    "    A.pop(0)\n",
    "    \n",
    "    return PerteSN(x,A) or PerteSN(x-f,[f]+A)"
   ]
  },
  {
   "cell_type": "markdown",
   "metadata": {
    "heading_collapsed": true,
    "hidden": true
   },
   "source": [
    "### Generador SN con cota"
   ]
  },
  {
   "cell_type": "markdown",
   "metadata": {
    "hidden": true
   },
   "source": [
    "Dado:\n",
    "* $geners$, una lista de enteros positivos que conforman un semigrupo numérico.\n",
    "* $ini$ un entero no negativo.\n",
    "\n",
    "_GenFinitoSN(geners,ini=0)_ devuelve un generador (iterador en Python) de los elementos de $<geners>$ hasta el elemento $ini$. "
   ]
  },
  {
   "cell_type": "code",
   "execution_count": 5,
   "metadata": {
    "ExecuteTime": {
     "end_time": "2021-11-04T15:14:25.532248Z",
     "start_time": "2021-11-04T15:14:25.516249Z"
    },
    "hidden": true
   },
   "outputs": [],
   "source": [
    "def GenFinitoSN(geners,ini=0):\n",
    "    iter1 = itls.count(ini)\n",
    "    \n",
    "    ayuda = lambda x: not PerteSN(x,geners)\n",
    "    \n",
    "    return itls.filterfalse(ayuda,iter1)"
   ]
  },
  {
   "cell_type": "markdown",
   "metadata": {
    "hidden": true
   },
   "source": [
    "\\begin{remark}\n",
    "\n",
    "In[]: type(GenFinitoSN([1]))\n",
    "\n",
    "Out[]: generator\n",
    "\n",
    "\\end{remark}\n"
   ]
  },
  {
   "cell_type": "markdown",
   "metadata": {
    "heading_collapsed": true,
    "hidden": true
   },
   "source": [
    "### Conjunto Apery"
   ]
  },
  {
   "cell_type": "markdown",
   "metadata": {
    "hidden": true
   },
   "source": [
    "Dado:\n",
    "* $geners$, una lista de enteros positivos que conforman un semigrupo numérico.\n",
    "* $verb$, un booleano.\n",
    "\n",
    "_ConjApery(geners,verb)_ devuelve una lista con los elementos del $Apery(geners,min(geners))$ de $<geners>$.\n",
    "\n",
    "Si $verb = True$, se imprimirá por pantalla información sobre $Apery(geners,min(geners))$."
   ]
  },
  {
   "cell_type": "code",
   "execution_count": 6,
   "metadata": {
    "ExecuteTime": {
     "end_time": "2021-11-04T15:14:25.548249Z",
     "start_time": "2021-11-04T15:14:25.532248Z"
    },
    "hidden": true
   },
   "outputs": [],
   "source": [
    "def ConjApery(geners,verb):\n",
    "    geners = EsSN(geners)\n",
    "    \n",
    "    mGeners = min(geners)\n",
    "    \n",
    "    apery = list(itls.repeat(0, mGeners)) \n",
    "    \n",
    "    genSN=GenFinitoSN(geners,mGeners)\n",
    "    \n",
    "    for i in genSN:\n",
    "        p = i%mGeners\n",
    "        if apery[p] == 0:\n",
    "            apery[p] = i\n",
    "        elif 0 not in apery:\n",
    "            if verb:\n",
    "                apery[0] = 0\n",
    "                maxApery = max(apery)\n",
    "                print(\"\\n\"+str(geners)+\" es un semigrupo numérico.\",end=\"\\n\\n\")\n",
    "                print(\"Apery(\"+str(geners)+\",\"+str(mGeners)+\") = \"+str(apery))\n",
    "                print(\"\\nmax(Apery)= \" + str(maxApery)) \n",
    "            return apery"
   ]
  },
  {
   "cell_type": "markdown",
   "metadata": {
    "heading_collapsed": true,
    "hidden": true
   },
   "source": [
    "### Generador SN a partir maximo del Apery"
   ]
  },
  {
   "cell_type": "markdown",
   "metadata": {
    "hidden": true
   },
   "source": [
    "Dado:\n",
    "* $geners$, una lista de enteros positivos que conforman un semigrupo numérico.\n",
    "* $verb$, un booleano.\n",
    "\n",
    "_GenSNMaxApery(geners,verb)_ devuelve un generador (iterador en Python) de los elementos de $<geners>$ hasta el elemento $max(Apery(geners,min(geners)))$. \n",
    "\n",
    "Si $verb = True$, se imprimirá por pantalla información sobre $Apery(geners,min(geners))$ y de $<geners>$."
   ]
  },
  {
   "cell_type": "code",
   "execution_count": 7,
   "metadata": {
    "ExecuteTime": {
     "end_time": "2021-11-04T15:14:25.572251Z",
     "start_time": "2021-11-04T15:14:25.548249Z"
    },
    "hidden": true
   },
   "outputs": [],
   "source": [
    "def GenSNMaxApery(geners,verb=False):\n",
    "    mGeners = min(geners)\n",
    "    \n",
    "    apery = list(itls.repeat(0, mGeners)) \n",
    "    \n",
    "    genSN = GenFinitoSN(geners,mGeners)\n",
    "    \n",
    "    yield 0\n",
    "    \n",
    "    for i in genSN:\n",
    "        p = i%mGeners\n",
    "        if apery[p] == 0:\n",
    "            apery[p] = i\n",
    "            yield i\n",
    "        elif 0 not in apery:\n",
    "            if verb:\n",
    "                apery[0] = 0\n",
    "                maxApery = max(apery)\n",
    "                print(\"\\n\"+str(geners)+\" es un semigrupo numérico.\",end=\"\\n\")\n",
    "                print(\"min(geners) =\",mGeners,end=\"\\n\\n\")\n",
    "                print(\"Apery(\"+str(geners)+\",\"+str(mGeners)+\") = \"+str(apery),end=\"\\n\\n\")\n",
    "                print(\"max(Apery)= \" + str(maxApery))\n",
    "            return None\n",
    "        else:\n",
    "            yield i"
   ]
  },
  {
   "cell_type": "markdown",
   "metadata": {
    "heading_collapsed": true,
    "hidden": true
   },
   "source": [
    "### Generador SN comprobando lista dada "
   ]
  },
  {
   "cell_type": "markdown",
   "metadata": {
    "hidden": true
   },
   "source": [
    "Dado:\n",
    "* $geners$, una lista.\n",
    "* $verb$, un booleano.\n",
    "\n",
    "_GeneradorSN(geners,verb)_ comprueba si <geners> es semigrupo numérico y si lo es, devuelve un generador (iterador en Python) de los elementos de $<geners>$ hasta el elemento $max(Apery(geners,min(geners)))$. En caso contrario, devuelve un error.\n",
    "\n",
    "Si $verb = True$, se imprimirá por pantalla información sobre $Apery(geners,min(geners))$ y $<geners>$."
   ]
  },
  {
   "cell_type": "code",
   "execution_count": 8,
   "metadata": {
    "ExecuteTime": {
     "end_time": "2021-11-04T15:14:25.588252Z",
     "start_time": "2021-11-04T15:14:25.572251Z"
    },
    "hidden": true
   },
   "outputs": [],
   "source": [
    "def GeneradorSN(geners,verb=False):\n",
    "    geners = EsSN(geners)\n",
    "    \n",
    "    return GenSNMaxApery(geners,verb)"
   ]
  },
  {
   "cell_type": "markdown",
   "metadata": {
    "heading_collapsed": true,
    "hidden": true
   },
   "source": [
    "### Lista del SN"
   ]
  },
  {
   "cell_type": "markdown",
   "metadata": {
    "hidden": true
   },
   "source": [
    "Dado:\n",
    "* $geners$, una lista.\n",
    "* $verb$, un booleano.\n",
    "\n",
    "_ListaSN(geners,verb)_ comprueba si <geners> es semigrupo numérico y si lo es, devuelve una lista con los elementos de $<geners>$ hasta el elemento $max(Apery(geners,min(geners)))$. En caso contrario, devuelve un error.\n",
    "\n",
    "Si $verb = True$, se imprimirá por pantalla información sobre $Apery(geners,min(geners))$ y $<geners>$."
   ]
  },
  {
   "cell_type": "code",
   "execution_count": 9,
   "metadata": {
    "ExecuteTime": {
     "end_time": "2021-11-04T15:14:25.604271Z",
     "start_time": "2021-11-04T15:14:25.588252Z"
    },
    "hidden": true
   },
   "outputs": [],
   "source": [
    "def ListaSN(geners,verb=False):\n",
    "    \n",
    "    return list(GeneradorSN(geners,verb))"
   ]
  },
  {
   "cell_type": "markdown",
   "metadata": {
    "heading_collapsed": true
   },
   "source": [
    "## Probando"
   ]
  },
  {
   "cell_type": "markdown",
   "metadata": {
    "heading_collapsed": true,
    "hidden": true
   },
   "source": [
    "#### Generando un SN"
   ]
  },
  {
   "cell_type": "markdown",
   "metadata": {
    "hidden": true
   },
   "source": [
    "Definir generador:"
   ]
  },
  {
   "cell_type": "code",
   "execution_count": 10,
   "metadata": {
    "ExecuteTime": {
     "end_time": "2021-11-04T15:14:25.620249Z",
     "start_time": "2021-11-04T15:14:25.604271Z"
    },
    "hidden": true
   },
   "outputs": [],
   "source": [
    "A = [7,15,20,46,53]"
   ]
  },
  {
   "cell_type": "markdown",
   "metadata": {
    "hidden": true
   },
   "source": [
    "Ver si es SN(A)"
   ]
  },
  {
   "cell_type": "code",
   "execution_count": 11,
   "metadata": {
    "ExecuteTime": {
     "end_time": "2021-11-04T15:14:25.644250Z",
     "start_time": "2021-11-04T15:14:25.628254Z"
    },
    "hidden": true,
    "scrolled": false
   },
   "outputs": [
    {
     "name": "stdout",
     "output_type": "stream",
     "text": [
      "[7, 15, 20, 46, 53] es Semigrupo Numérico.\n"
     ]
    }
   ],
   "source": [
    "geners = EsSN(A)\n",
    "print(geners,\"es Semigrupo Numérico.\")"
   ]
  },
  {
   "cell_type": "markdown",
   "metadata": {
    "hidden": true
   },
   "source": [
    "Comprobar si un elemento $x$ está en el SN $<A>$:"
   ]
  },
  {
   "cell_type": "code",
   "execution_count": 12,
   "metadata": {
    "ExecuteTime": {
     "end_time": "2021-11-04T15:14:25.660250Z",
     "start_time": "2021-11-04T15:14:25.644250Z"
    },
    "hidden": true
   },
   "outputs": [],
   "source": [
    "x = 75"
   ]
  },
  {
   "cell_type": "code",
   "execution_count": 13,
   "metadata": {
    "ExecuteTime": {
     "end_time": "2021-11-04T15:14:25.676249Z",
     "start_time": "2021-11-04T15:14:25.660250Z"
    },
    "hidden": true
   },
   "outputs": [
    {
     "name": "stdout",
     "output_type": "stream",
     "text": [
      "75 pertenece al semigrupo numérico.\n"
     ]
    }
   ],
   "source": [
    "geners = EsSN(A)\n",
    "\n",
    "if PerteSN(x,geners):\n",
    "    print(x,\"pertenece al semigrupo numérico.\")\n",
    "else:\n",
    "    print(x,\"no pertenece al semigrupo numérico.\")\n"
   ]
  },
  {
   "cell_type": "markdown",
   "metadata": {
    "hidden": true
   },
   "source": [
    "Apery del SN:"
   ]
  },
  {
   "cell_type": "code",
   "execution_count": 14,
   "metadata": {
    "ExecuteTime": {
     "end_time": "2021-11-04T15:14:25.692264Z",
     "start_time": "2021-11-04T15:14:25.676249Z"
    },
    "hidden": true
   },
   "outputs": [
    {
     "name": "stdout",
     "output_type": "stream",
     "text": [
      "\n",
      "[7, 15, 20, 46, 53] es un semigrupo numérico.\n",
      "\n",
      "Apery([7, 15, 20, 46, 53],7) = [0, 15, 30, 45, 46, 40, 20]\n",
      "\n",
      "max(Apery)= 46\n"
     ]
    }
   ],
   "source": [
    "geners = EsSN(A)\n",
    "\n",
    "apery = ConjApery(geners,True)   "
   ]
  },
  {
   "cell_type": "markdown",
   "metadata": {
    "hidden": true
   },
   "source": [
    "Generador del SN:"
   ]
  },
  {
   "cell_type": "code",
   "execution_count": 15,
   "metadata": {
    "ExecuteTime": {
     "end_time": "2021-11-04T15:14:25.724251Z",
     "start_time": "2021-11-04T15:14:25.692264Z"
    },
    "hidden": true
   },
   "outputs": [
    {
     "name": "stdout",
     "output_type": "stream",
     "text": [
      "Observamos que es un generador: <class 'generator'>\n"
     ]
    }
   ],
   "source": [
    "genSN = GeneradorSN(A,False)\n",
    "\n",
    "print(\"Observamos que es un generador:\",type(genSN))\n",
    "#print(\"Semigrupo Numerico:\",list(genSN))"
   ]
  },
  {
   "cell_type": "markdown",
   "metadata": {
    "hidden": true
   },
   "source": [
    "Lista de elementos del Semigrupo Numérico (cambiar valor de $verb$ si quieres más datos sobre el SN):"
   ]
  },
  {
   "cell_type": "code",
   "execution_count": 16,
   "metadata": {
    "ExecuteTime": {
     "end_time": "2021-11-04T15:14:25.756252Z",
     "start_time": "2021-11-04T15:14:25.724251Z"
    },
    "hidden": true
   },
   "outputs": [
    {
     "name": "stdout",
     "output_type": "stream",
     "text": [
      "\n",
      "[7, 15, 20, 46, 53] es un semigrupo numérico.\n",
      "min(geners) = 7\n",
      "\n",
      "Apery([7, 15, 20, 46, 53],7) = [0, 15, 30, 45, 46, 40, 20]\n",
      "\n",
      "max(Apery)= 46\n",
      "\n",
      "Semigrupo: [0, 7, 14, 15, 20, 21, 22, 27, 28, 29, 30, 34, 35, 36, 37, 40, 41, 42, 43, 44, 45, 46] ->\n"
     ]
    }
   ],
   "source": [
    "listaSN = ListaSN(A,verb=True)\n",
    "\n",
    "print(\"\\nSemigrupo:\",listaSN,\"->\")"
   ]
  },
  {
   "cell_type": "markdown",
   "metadata": {
    "heading_collapsed": true,
    "hidden": true
   },
   "source": [
    "#### Rapidez"
   ]
  },
  {
   "cell_type": "code",
   "execution_count": 17,
   "metadata": {
    "ExecuteTime": {
     "end_time": "2021-11-04T15:14:25.772250Z",
     "start_time": "2021-11-04T15:14:25.764249Z"
    },
    "hidden": true
   },
   "outputs": [],
   "source": [
    "# Generadores del semigrupo numérico a emplear\n",
    "B = [45,77]\n",
    "# Numero de repeticiones.\n",
    "nums = 3"
   ]
  },
  {
   "cell_type": "code",
   "execution_count": 18,
   "metadata": {
    "ExecuteTime": {
     "end_time": "2021-11-04T15:14:26.640928Z",
     "start_time": "2021-11-04T15:14:25.772250Z"
    },
    "hidden": true
   },
   "outputs": [
    {
     "name": "stdout",
     "output_type": "stream",
     "text": [
      "Tiempo medio empleado al ejecutarlo 3 veces.\n",
      "\\ListaSN tiempo total: 0.8366015000000004\n",
      "\\ListaSN tiempo medio: 0.27886716666666683\n"
     ]
    }
   ],
   "source": [
    "# Comprobando velocidad de ListaSN.\n",
    "def TiempoListaSN(nums):\n",
    "    SETUP_CODE = '''\n",
    "from __main__ import EsSN,PerteSN,GenFinitoSN,GenSNMaxApery,GeneradorSN,ListaSN\n",
    "import itertools as itls\n",
    "import math\n",
    "import numpy as np\n",
    "'''\n",
    "\n",
    "    TEST_CODE = '''\n",
    "geners = '''+str(genersB)+'''\n",
    "ListaSN(geners)'''\n",
    "\n",
    "    # timeit.repeat\n",
    "    tiempo = timeit.timeit(setup = SETUP_CODE,\n",
    "                        stmt = TEST_CODE,\n",
    "                        number = nums)\n",
    "\n",
    "    # Imprimiendo en pantalla el minimo tiempo de ejecucion\n",
    "    print('\\ListaSN tiempo total:',tiempo)\n",
    "    print('\\ListaSN tiempo medio:',tiempo/nums)\n",
    "\n",
    "if __name__ == \"__main__\":\n",
    "    genersB=EsSN(B)\n",
    "    \n",
    "    print(\"Tiempo medio empleado al ejecutarlo\",nums,\"veces.\")\n",
    "    TiempoListaSN(nums)"
   ]
  },
  {
   "cell_type": "markdown",
   "metadata": {
    "heading_collapsed": true
   },
   "source": [
    "## Código"
   ]
  },
  {
   "cell_type": "code",
   "execution_count": 19,
   "metadata": {
    "ExecuteTime": {
     "end_time": "2021-11-04T15:14:26.680930Z",
     "start_time": "2021-11-04T15:14:26.640928Z"
    },
    "hidden": true
   },
   "outputs": [
    {
     "data": {
      "text/plain": [
       "'\\nimport itertools as itls\\nimport math\\nimport numpy as np\\nimport timeit\\n\\ndef EsSN(geners):\\n    # Comprobamos si \"geners\" es una lista.\\n    if(type(geners) != list): \\n        raise Exception(\"Se deben introducir los generadores en una lista.\")\\n    \\n    # Comprobamos si la lista es vacía\\n    elif(len(geners) == 0): \\n        raise Execption(\"Debe haber al menos un generador.\")\\n    \\n    # Ordenamos la lista y comprobamos si son enteros los elementos de \"geners\".\\n    # Habrá algunos elementos que aunque no sean enteros, serán convertidos a este tipo.\\n    try: \\n        geners = sorted( [int(i) for i in geners] ) \\n    except:\\n        raise Exception(\"Uno de los generadores no es un entero.\")\\n    \\n    # Revisamos si mcd(geners)=1, es decir, si \"geners\" es generador de un SN.\\n    if np.gcd.reduce(geners) == 1:\\n        return geners\\n    else: \\n        raise Exception(\"Debe ser semigrupo numerico.\")\\n\\ndef PerteSN(x,geners):\\n    #Creamos otra lista para que no modifique la original \"geners\".\\n    A=list(geners)\\n    \\n    if x == 0: # 0 está en cualquier semigrupo numérico\\n        return True\\n    \\n    elif x < 0: # Los numéros negativos no están en el semigrupo. \\n        # Tras varias operaciones en x, si x modificado no ha llegado a anularse\\n        # este se hará negativo, concluyéndose no está.\\n        return False\\n    \\n    elif len(A) == 1 and x % A[0] == 0: \\n        return True\\n    \\n    elif len( A) == 1: # Al ser \"len(A)=1\" y \"x%A[0]!=0\", x no es parte del semigrupo.\\n        return False\\n    \\n    f= A[0]\\n    A.pop(0)\\n    \\n    return PerteSN(x,A) or PerteSN(x-f,[f]+A)\\n\\ndef GenFinitoSN(geners,ini=0):\\n    iter1 = itls.count(ini)\\n    \\n    ayuda = lambda x: not PerteSN(x,geners)\\n    \\n    return itls.filterfalse(ayuda,iter1)\\n\\ndef ConjApery(geners,verb):\\n    geners = EsSN(geners)\\n    \\n    mGeners = min(geners)\\n    \\n    apery = list(itls.repeat(0, mGeners)) \\n    \\n    genSN=GenFinitoSN(geners,mGeners)\\n    \\n    for i in genSN:\\n        p = i%mGeners\\n        if apery[p] == 0:\\n            apery[p] = i\\n        elif 0 not in apery:\\n            if verb:\\n                apery[0] = 0\\n                maxApery = max(apery)\\n                print(\"\\n\"+str(geners)+\" es un semigrupo numérico.\",end=\"\\n\\n\")\\n                print(\"Apery(\"+str(geners)+\",\"+str(mGeners)+\") = \"+str(apery))\\n                print(\"\\nmax(Apery)= \" + str(maxApery)) \\n            return apery\\n        \\ndef GenSNMaxApery(geners,verb=False):\\n    mGeners = min(geners)\\n    \\n    apery = list(itls.repeat(0, mGeners)) \\n    \\n    genSN = GenFinitoSN(geners,mGeners)\\n    \\n    yield 0\\n    \\n    for i in genSN:\\n        p = i%mGeners\\n        if apery[p] == 0:\\n            apery[p] = i\\n            yield i\\n        elif 0 not in apery:\\n            if verb:\\n                apery[0] = 0\\n                maxApery = max(apery)\\n                print(\"\\n\"+str(geners)+\" es un semigrupo numérico.\",end=\"\\n\")\\n                print(\"min(geners) =\",mGeners,end=\"\\n\\n\")\\n                print(\"Apery(\"+str(geners)+\",\"+str(mGeners)+\") = \"+str(apery),end=\"\\n\\n\")\\n                print(\"max(Apery)= \" + str(maxApery))\\n            return None\\n        else:\\n            yield i\\n\\ndef GeneradorSN(geners,verb=False):\\n    geners = EsSN(geners)\\n    \\n    return GenSNMaxApery(geners,verb)\\n\\ndef ListaSN(geners,verb=False):\\n    \\n    return list(GeneradorSN(geners,verb))\\n'"
      ]
     },
     "execution_count": 19,
     "metadata": {},
     "output_type": "execute_result"
    }
   ],
   "source": [
    "'''\n",
    "import itertools as itls\n",
    "import math\n",
    "import numpy as np\n",
    "import timeit\n",
    "\n",
    "def EsSN(geners):\n",
    "    # Comprobamos si \"geners\" es una lista.\n",
    "    if(type(geners) != list): \n",
    "        raise Exception(\"Se deben introducir los generadores en una lista.\")\n",
    "    \n",
    "    # Comprobamos si la lista es vacía\n",
    "    elif(len(geners) == 0): \n",
    "        raise Execption(\"Debe haber al menos un generador.\")\n",
    "    \n",
    "    # Ordenamos la lista y comprobamos si son enteros los elementos de \"geners\".\n",
    "    # Habrá algunos elementos que aunque no sean enteros, serán convertidos a este tipo.\n",
    "    try: \n",
    "        geners = sorted( [int(i) for i in geners] ) \n",
    "    except:\n",
    "        raise Exception(\"Uno de los generadores no es un entero.\")\n",
    "    \n",
    "    # Revisamos si mcd(geners)=1, es decir, si \"geners\" es generador de un SN.\n",
    "    if np.gcd.reduce(geners) == 1:\n",
    "        return geners\n",
    "    else: \n",
    "        raise Exception(\"Debe ser semigrupo numerico.\")\n",
    "\n",
    "def PerteSN(x,geners):\n",
    "    #Creamos otra lista para que no modifique la original \"geners\".\n",
    "    A=list(geners)\n",
    "    \n",
    "    if x == 0: # 0 está en cualquier semigrupo numérico\n",
    "        return True\n",
    "    \n",
    "    elif x < 0: # Los numéros negativos no están en el semigrupo. \n",
    "        # Tras varias operaciones en x, si x modificado no ha llegado a anularse\n",
    "        # este se hará negativo, concluyéndose no está.\n",
    "        return False\n",
    "    \n",
    "    elif len(A) == 1 and x % A[0] == 0: \n",
    "        return True\n",
    "    \n",
    "    elif len( A) == 1: # Al ser \"len(A)=1\" y \"x%A[0]!=0\", x no es parte del semigrupo.\n",
    "        return False\n",
    "    \n",
    "    f= A[0]\n",
    "    A.pop(0)\n",
    "    \n",
    "    return PerteSN(x,A) or PerteSN(x-f,[f]+A)\n",
    "\n",
    "def GenFinitoSN(geners,ini=0):\n",
    "    iter1 = itls.count(ini)\n",
    "    \n",
    "    ayuda = lambda x: not PerteSN(x,geners)\n",
    "    \n",
    "    return itls.filterfalse(ayuda,iter1)\n",
    "\n",
    "def ConjApery(geners,verb):\n",
    "    geners = EsSN(geners)\n",
    "    \n",
    "    mGeners = min(geners)\n",
    "    \n",
    "    apery = list(itls.repeat(0, mGeners)) \n",
    "    \n",
    "    genSN=GenFinitoSN(geners,mGeners)\n",
    "    \n",
    "    for i in genSN:\n",
    "        p = i%mGeners\n",
    "        if apery[p] == 0:\n",
    "            apery[p] = i\n",
    "        elif 0 not in apery:\n",
    "            if verb:\n",
    "                apery[0] = 0\n",
    "                maxApery = max(apery)\n",
    "                print(\"\\n\"+str(geners)+\" es un semigrupo numérico.\",end=\"\\n\\n\")\n",
    "                print(\"Apery(\"+str(geners)+\",\"+str(mGeners)+\") = \"+str(apery))\n",
    "                print(\"\\nmax(Apery)= \" + str(maxApery)) \n",
    "            return apery\n",
    "        \n",
    "def GenSNMaxApery(geners,verb=False):\n",
    "    mGeners = min(geners)\n",
    "    \n",
    "    apery = list(itls.repeat(0, mGeners)) \n",
    "    \n",
    "    genSN = GenFinitoSN(geners,mGeners)\n",
    "    \n",
    "    yield 0\n",
    "    \n",
    "    for i in genSN:\n",
    "        p = i%mGeners\n",
    "        if apery[p] == 0:\n",
    "            apery[p] = i\n",
    "            yield i\n",
    "        elif 0 not in apery:\n",
    "            if verb:\n",
    "                apery[0] = 0\n",
    "                maxApery = max(apery)\n",
    "                print(\"\\n\"+str(geners)+\" es un semigrupo numérico.\",end=\"\\n\")\n",
    "                print(\"min(geners) =\",mGeners,end=\"\\n\\n\")\n",
    "                print(\"Apery(\"+str(geners)+\",\"+str(mGeners)+\") = \"+str(apery),end=\"\\n\\n\")\n",
    "                print(\"max(Apery)= \" + str(maxApery))\n",
    "            return None\n",
    "        else:\n",
    "            yield i\n",
    "\n",
    "def GeneradorSN(geners,verb=False):\n",
    "    geners = EsSN(geners)\n",
    "    \n",
    "    return GenSNMaxApery(geners,verb)\n",
    "\n",
    "def ListaSN(geners,verb=False):\n",
    "    \n",
    "    return list(GeneradorSN(geners,verb))\n",
    "'''"
   ]
  }
 ],
 "metadata": {
  "kernelspec": {
   "display_name": "Python 3 (ipykernel)",
   "language": "python",
   "name": "python3"
  },
  "language_info": {
   "codemirror_mode": {
    "name": "ipython",
    "version": 3
   },
   "file_extension": ".py",
   "mimetype": "text/x-python",
   "name": "python",
   "nbconvert_exporter": "python",
   "pygments_lexer": "ipython3",
   "version": "3.8.12"
  },
  "latex_envs": {
   "LaTeX_envs_menu_present": true,
   "autoclose": false,
   "autocomplete": true,
   "bibliofile": "biblio.bib",
   "cite_by": "apalike",
   "current_citInitial": 1,
   "eqLabelWithNumbers": true,
   "eqNumInitial": 1,
   "hotkeys": {
    "equation": "Ctrl-E",
    "itemize": "Ctrl-I"
   },
   "labels_anchors": false,
   "latex_user_defs": false,
   "report_style_numbering": false,
   "user_envs_cfg": false
  }
 },
 "nbformat": 4,
 "nbformat_minor": 4
}
