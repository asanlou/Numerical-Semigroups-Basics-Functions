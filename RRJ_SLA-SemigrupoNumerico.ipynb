{
 "cells": [
  {
   "cell_type": "markdown",
   "metadata": {},
   "source": [
    "# Programa para _Campeonato de Python_"
   ]
  },
  {
   "cell_type": "markdown",
   "metadata": {},
   "source": [
    "_Rincón Rangel, José_"
   ]
  },
  {
   "cell_type": "markdown",
   "metadata": {},
   "source": [
    "_Sánchez Loureiro, Adrián_"
   ]
  },
  {
   "cell_type": "markdown",
   "metadata": {},
   "source": [
    "Este trabajo es de elaboración propia, ayudándonos del pseudocódigo recibido en la asignatura."
   ]
  },
  {
   "cell_type": "markdown",
   "metadata": {},
   "source": [
    "## Paquetes que a lo mejor hay que instalar"
   ]
  },
  {
   "cell_type": "code",
   "execution_count": 1,
   "metadata": {
    "ExecuteTime": {
     "end_time": "2021-11-05T18:34:37.107477Z",
     "start_time": "2021-11-05T18:34:37.097475Z"
    }
   },
   "outputs": [],
   "source": [
    "#!pip install numpy"
   ]
  },
  {
   "cell_type": "markdown",
   "metadata": {},
   "source": [
    "## Paquetes"
   ]
  },
  {
   "cell_type": "code",
   "execution_count": 2,
   "metadata": {
    "ExecuteTime": {
     "end_time": "2021-11-05T18:34:37.855499Z",
     "start_time": "2021-11-05T18:34:37.121475Z"
    }
   },
   "outputs": [],
   "source": [
    "import itertools as itls\n",
    "import math\n",
    "import numpy as np\n",
    "import timeit"
   ]
  },
  {
   "cell_type": "markdown",
   "metadata": {},
   "source": [
    "## Funciones"
   ]
  },
  {
   "cell_type": "markdown",
   "metadata": {},
   "source": [
    "Lista de funciones definidas:\n",
    "* EsSN\n",
    "* PerteSN\n",
    "* GenInfinitoSN\n",
    "* ConjApery\n",
    "* GenSNMaxApery\n",
    "* GeneradorSN\n",
    "* ListaSN"
   ]
  },
  {
   "cell_type": "markdown",
   "metadata": {},
   "source": [
    "### Es Semigrupo Numerico"
   ]
  },
  {
   "cell_type": "markdown",
   "metadata": {},
   "source": [
    "Dado:\n",
    "* $geners$, una lista de elementos.\n",
    "\n",
    "_EsSN(geners)_ comprueba si $<geners>$ es semigrupo numérico. \n",
    "\n",
    "Salida:\n",
    "* En caso afirmativo, devuelve la lista $geners$ ordenada y con sus elementos como enteros.\n",
    "* En caso contrario, devuelve un error y el motivo de este."
   ]
  },
  {
   "cell_type": "code",
   "execution_count": 3,
   "metadata": {
    "ExecuteTime": {
     "end_time": "2021-11-05T18:34:37.899493Z",
     "start_time": "2021-11-05T18:34:37.868504Z"
    }
   },
   "outputs": [],
   "source": [
    "def EsSN(geners):\n",
    "    # Comprobamos si \"geners\" es una lista.\n",
    "    if(type(geners) != list): \n",
    "        raise Exception(\"Se deben introducir los generadores en una lista.\")\n",
    "    \n",
    "    # Comprobamos si la lista es vacía\n",
    "    elif(len(geners) == 0): \n",
    "        raise Exception(\"Debe haber al menos un generador.\")\n",
    "    \n",
    "    # Ordenamos la lista y comprobamos si son enteros los elementos de \"geners\".\n",
    "    # Habrá algunos elementos que aunque no sean enteros, serán convertidos a este tipo.\n",
    "    try: \n",
    "        geners = sorted( [int(i) for i in geners] ) \n",
    "    except:\n",
    "        raise Exception(\"Uno de los generadores no es un entero.\")\n",
    "    \n",
    "    # Revisamos si mcd(geners)=1, es decir, si \"geners\" es generador de un SN.\n",
    "    if np.gcd.reduce(geners) == 1:\n",
    "        return geners\n",
    "    else: \n",
    "        raise Exception(\"Debe ser semigrupo numerico.\")"
   ]
  },
  {
   "cell_type": "markdown",
   "metadata": {},
   "source": [
    "### Pertenece x en semigrupo"
   ]
  },
  {
   "cell_type": "markdown",
   "metadata": {},
   "source": [
    "Dado:\n",
    "* $geners$, una lista de enteros positivos que conforman un semigrupo numérico.\n",
    "* $x$ un número.\n",
    "\n",
    "_PerteSN(x,geners)_ comprueba si $x \\in <geners>$. \n",
    "\n",
    "Salida:\n",
    "* En caso afirmativo, devuelve $True$.\n",
    "* En caso contrario, devuelve $False$."
   ]
  },
  {
   "cell_type": "code",
   "execution_count": 4,
   "metadata": {
    "ExecuteTime": {
     "end_time": "2021-11-05T18:34:37.946496Z",
     "start_time": "2021-11-05T18:34:37.907495Z"
    }
   },
   "outputs": [],
   "source": [
    "def PerteSN(x,geners):\n",
    "    #Creamos otra lista para que no modifique la original \"geners\".\n",
    "    A=list(geners)\n",
    "    \n",
    "    if x == 0: # 0 está en cualquier semigrupo numérico\n",
    "        return True\n",
    "    \n",
    "    elif x < 0: # Los numéros negativos no están en el semigrupo. \n",
    "        return False\n",
    "    \n",
    "    elif len(A) == 1 and x % A[0] == 0: # \"x\" multiplo de un generador.\n",
    "        return True\n",
    "    \n",
    "    elif len( A) == 1: # Al ser \"len(A)=1\" y \"x%A[0]!=0\", x no es parte del semigrupo.\n",
    "        return False\n",
    "    \n",
    "    else:    \n",
    "        f= A[0]\n",
    "        A.pop(0)\n",
    "    \n",
    "        return PerteSN(x,A) or PerteSN(x-f,[f]+A)"
   ]
  },
  {
   "cell_type": "markdown",
   "metadata": {},
   "source": [
    "### Generador SN con cota"
   ]
  },
  {
   "cell_type": "markdown",
   "metadata": {},
   "source": [
    "Dado:\n",
    "* $geners$, una lista de enteros positivos que conforman un semigrupo numérico.\n",
    "* $ini$ un entero no negativo.\n",
    "\n",
    "_GenInfinitoSN(geners,ini=0)_ devuelve un generador (iterador en Python) de los elementos de $<geners>$ comenzando en $ini$. "
   ]
  },
  {
   "cell_type": "code",
   "execution_count": 5,
   "metadata": {
    "ExecuteTime": {
     "end_time": "2021-11-05T18:34:37.961495Z",
     "start_time": "2021-11-05T18:34:37.952494Z"
    }
   },
   "outputs": [],
   "source": [
    "def GenInfinitoSN(geners,ini=0):\n",
    "    # Contador infinito de naturales que comienza en \"ini\".\n",
    "    iter1 = itls.count(ini)\n",
    "    \n",
    "    # Función que dado x, si pertenece al semigrupo SN devuelve \"False\", y sino \"True\".\n",
    "    PerteEnGenersInverso = lambda x: not PerteSN(x,geners) \n",
    "    \n",
    "    # \"itls.filterfalse(ayuda,iter1)\" crea un generador de los elementos de \"iter1\" que dan \"False\",\n",
    "    # es decir, de los elementos del semigrupo <geners>.\n",
    "    return itls.filterfalse(PerteEnGenersInverso,iter1)"
   ]
  },
  {
   "cell_type": "markdown",
   "metadata": {},
   "source": [
    "\\begin{remark}\n",
    "\n",
    "In[]: type(GenInfinitoSN([1]))\n",
    "\n",
    "Out[]: generator\n",
    "\n",
    "\\end{remark}\n"
   ]
  },
  {
   "cell_type": "markdown",
   "metadata": {},
   "source": [
    "### Conjunto Apery"
   ]
  },
  {
   "cell_type": "markdown",
   "metadata": {},
   "source": [
    "Dado:\n",
    "* $geners$, una lista de enteros positivos que conforman un semigrupo numérico.\n",
    "* $verb$, un booleano.\n",
    "\n",
    "_ConjApery(geners,verb)_ devuelve una lista con los elementos del $Apery(geners,min(geners))$ de $<geners>$.\n",
    "\n",
    "Si $verb = True$, se imprimirá por pantalla información sobre $Apery(geners,min(geners))$."
   ]
  },
  {
   "cell_type": "code",
   "execution_count": 6,
   "metadata": {
    "ExecuteTime": {
     "end_time": "2021-11-05T18:34:38.007502Z",
     "start_time": "2021-11-05T18:34:37.967498Z"
    }
   },
   "outputs": [],
   "source": [
    "def ConjApery(geners,verb):\n",
    "    geners = EsSN(geners) # Comprobamos si geners genera un SN.\n",
    "    \n",
    "    mGeners = min(geners) # Emplearemos el mínimo del geners para generar el apery.\n",
    "    \n",
    "    apery = list(itls.repeat(0, mGeners)) # Lista de \"mGeners\" ceros.\n",
    "    \n",
    "    genSN =  GenInfinitoSN(geners,mGeners) # Generador del SN que comienza en \"mGeners\".\n",
    "    \n",
    "    # Recorremos los elementos de SN desde el primer elemento para construir el Apery.\n",
    "    for i in genSN:\n",
    "        # Vemos a que clase pertenece \"i\".\n",
    "        p = i%mGeners\n",
    "        \n",
    "        # Rellenaremos el Apery a partir del menor representante de \n",
    "        # de cada clase [] en Apery(geners,min(geners))/mod(mGeners) \n",
    "        # Comprobamos si ya hay alguno de la clase de \"i\" en \"apery\".\n",
    "        if apery[p] == 0:\n",
    "            apery[p] = i\n",
    "        \n",
    "        # Una vez, calculado el Apery:\n",
    "        elif 0 not in apery:\n",
    "            # Si verb == True, imprime por pantalla información sobre el SN y el Apery y devuelve\n",
    "            # una lista con los elementos del Apery.\n",
    "            if verb:\n",
    "                apery[0] = 0 # El \"apery\" siempre tiene el cero en él.\n",
    "                maxApery = i \n",
    "                print(\"\\n\"+str(geners)+\" es un semigrupo numérico.\",end=\"\\n\")\n",
    "                print(\"min(geners) =\",mGeners,end=\"\\n\\n\")\n",
    "                print(\"Apery(\"+str(geners)+\",\"+str(mGeners)+\") = \"+str(apery))\n",
    "                print(\"\\nmax(Apery)= \" + str(maxApery)) \n",
    "                \n",
    "                return apery\n",
    "            # Sino, sólo devuelve una lista con los elementos Apery.\n",
    "            else:\n",
    "                return apery"
   ]
  },
  {
   "cell_type": "markdown",
   "metadata": {},
   "source": [
    "### Generador SN a partir maximo del Apery"
   ]
  },
  {
   "cell_type": "markdown",
   "metadata": {},
   "source": [
    "Dado:\n",
    "* $geners$, una lista de enteros positivos que conforman un semigrupo numérico.\n",
    "* $verb$, un booleano.\n",
    "\n",
    "_GenSNMaxApery(geners,verb)_ devuelve un generador (iterador en Python) de los elementos de $<geners>$ hasta el elemento $max(Apery(geners,min(geners)))$. \n",
    "\n",
    "Si $verb = True$, se imprimirá por pantalla información sobre $Apery(geners,min(geners))$ y de $<geners>$."
   ]
  },
  {
   "cell_type": "code",
   "execution_count": 7,
   "metadata": {
    "ExecuteTime": {
     "end_time": "2021-11-05T18:34:38.039496Z",
     "start_time": "2021-11-05T18:34:38.010496Z"
    }
   },
   "outputs": [],
   "source": [
    "def GenSNMaxApery(geners,verb=False):\n",
    "    mGeners = min(geners) # Emplearemos el mínimo del geners para generar el apery.\n",
    "    \n",
    "    apery = list(itls.repeat(0, mGeners)) # Lista de \"mGeners\" ceros.\n",
    "    \n",
    "    genSN = GenInfinitoSN(geners,mGeners) # Generador del SN que comienza en \"mGeners\".\n",
    "    \n",
    "    # El cero siempre pertenece a un semigrupo numérico.\n",
    "    yield 0\n",
    "    \n",
    "    # Recorremos los elementos de SN desde el primer elemento para encontrar el máximo del apery,\n",
    "    # mientras devolvemos los elementos del SN revisados.\n",
    "    for i in genSN:\n",
    "        # Vemos a que clase pertenece \"i\".\n",
    "        p = i%mGeners\n",
    "        \n",
    "        # Rellenaremos el Apery a partir del menor representante de \n",
    "        # de cada clase [] en Apery(geners,min(geners))/mod(mGeners) \n",
    "        # Comprobamos si ya hay alguno de la clase de \"i\" en \"apery\".\n",
    "        if apery[p] == 0:\n",
    "            apery[p] = i\n",
    "            yield i\n",
    "        \n",
    "        # Una vez, calculado el Apery, el último elemento empleado es el máximo del Apery. Luego:\n",
    "        elif 0 not in apery:\n",
    "            # Si verb == True, imprime por pantalla información sobre el SN y el Apery y devuelve\n",
    "            # una lista con los elementos del Apery.\n",
    "            if verb:\n",
    "                apery[0] = 0\n",
    "                maxApery = i\n",
    "                print(\"\\n\"+str(geners)+\" es un semigrupo numérico.\",end=\"\\n\")\n",
    "                print(\"min(geners) =\",mGeners,end=\"\\n\\n\")\n",
    "                print(\"Apery(\"+str(geners)+\",\"+str(mGeners)+\") = \"+str(apery),end=\"\\n\\n\")\n",
    "                print(\"max(Apery)= \" + str(maxApery))\n",
    "                \n",
    "                return None\n",
    "            \n",
    "            # Sino, solo devuelve el generador.\n",
    "            else:\n",
    "                return None\n",
    "        else:\n",
    "            yield i"
   ]
  },
  {
   "cell_type": "markdown",
   "metadata": {},
   "source": [
    "### Generador SN comprobando lista dada "
   ]
  },
  {
   "cell_type": "markdown",
   "metadata": {},
   "source": [
    "Dado:\n",
    "* $geners$, una lista.\n",
    "* $verb$, un booleano.\n",
    "\n",
    "_GeneradorSN(geners,verb)_ comprueba si <geners> es semigrupo numérico y si lo es, devuelve un generador (iterador en Python) de los elementos de $<geners>$ hasta el elemento $max(Apery(geners,min(geners)))$. En caso contrario, devuelve un error.\n",
    "\n",
    "Si $verb = True$, se imprimirá por pantalla información sobre $Apery(geners,min(geners))$ y $<geners>$."
   ]
  },
  {
   "cell_type": "code",
   "execution_count": 8,
   "metadata": {
    "ExecuteTime": {
     "end_time": "2021-11-05T18:34:38.055500Z",
     "start_time": "2021-11-05T18:34:38.044499Z"
    }
   },
   "outputs": [],
   "source": [
    "def GeneradorSN(geners,verb=False):\n",
    "    geners = EsSN(geners) # Comprueba si genera un SN.\n",
    "    \n",
    "    # Devuelve un generador de los elementos de <geners> hasta max(Apery(geners,min(geners))).    \n",
    "    return GenSNMaxApery(geners,verb) "
   ]
  },
  {
   "cell_type": "markdown",
   "metadata": {},
   "source": [
    "### Lista del SN"
   ]
  },
  {
   "cell_type": "markdown",
   "metadata": {},
   "source": [
    "Dado:\n",
    "* $geners$, una lista.\n",
    "* $verb$, un booleano.\n",
    "\n",
    "_ListaSN(geners,verb)_ comprueba si <geners> es semigrupo numérico y si lo es, devuelve una lista con los elementos de $<geners>$ hasta el elemento $max(Apery(geners,min(geners)))$. En caso contrario, devuelve un error.\n",
    "\n",
    "Si $verb = True$, se imprimirá por pantalla información sobre $Apery(geners,min(geners))$ y $<geners>$."
   ]
  },
  {
   "cell_type": "code",
   "execution_count": 9,
   "metadata": {
    "ExecuteTime": {
     "end_time": "2021-11-05T18:34:38.084496Z",
     "start_time": "2021-11-05T18:34:38.061494Z"
    }
   },
   "outputs": [],
   "source": [
    "def ListaSN(geners,verb=False):\n",
    "    \n",
    "    # Devuelve una lista de los elementos de <geners> hasta max(Apery(geners,min(geners))).\n",
    "    return list(GeneradorSN(geners,verb))"
   ]
  },
  {
   "cell_type": "markdown",
   "metadata": {},
   "source": [
    "## Probando"
   ]
  },
  {
   "cell_type": "markdown",
   "metadata": {},
   "source": [
    "#### Generando un SN"
   ]
  },
  {
   "cell_type": "markdown",
   "metadata": {},
   "source": [
    "* Definir generador:"
   ]
  },
  {
   "cell_type": "code",
   "execution_count": 10,
   "metadata": {
    "ExecuteTime": {
     "end_time": "2021-11-05T18:34:38.116494Z",
     "start_time": "2021-11-05T18:34:38.106497Z"
    }
   },
   "outputs": [],
   "source": [
    "A = [7,15,20,46,53]"
   ]
  },
  {
   "cell_type": "markdown",
   "metadata": {},
   "source": [
    "* Ver si es SN(A)"
   ]
  },
  {
   "cell_type": "code",
   "execution_count": 11,
   "metadata": {
    "ExecuteTime": {
     "end_time": "2021-11-05T18:34:38.148500Z",
     "start_time": "2021-11-05T18:34:38.129499Z"
    },
    "scrolled": false
   },
   "outputs": [
    {
     "name": "stdout",
     "output_type": "stream",
     "text": [
      "[7, 15, 20, 46, 53] es Semigrupo Numérico.\n"
     ]
    }
   ],
   "source": [
    "geners = EsSN(A)\n",
    "print(geners,\"es Semigrupo Numérico.\")"
   ]
  },
  {
   "cell_type": "markdown",
   "metadata": {},
   "source": [
    "* Comprobar si un elemento $x$ está en el SN $<A>$:"
   ]
  },
  {
   "cell_type": "code",
   "execution_count": 12,
   "metadata": {
    "ExecuteTime": {
     "end_time": "2021-11-05T18:34:38.163496Z",
     "start_time": "2021-11-05T18:34:38.155495Z"
    }
   },
   "outputs": [],
   "source": [
    "x = 75 # Elemento a comprobar."
   ]
  },
  {
   "cell_type": "code",
   "execution_count": 13,
   "metadata": {
    "ExecuteTime": {
     "end_time": "2021-11-05T18:34:38.195497Z",
     "start_time": "2021-11-05T18:34:38.171496Z"
    }
   },
   "outputs": [
    {
     "name": "stdout",
     "output_type": "stream",
     "text": [
      "75 pertenece al semigrupo numérico.\n"
     ]
    }
   ],
   "source": [
    "geners = EsSN(A) #Comprobamos si A es SN.\n",
    "\n",
    "if PerteSN(x,geners):\n",
    "    print(x,\"pertenece al semigrupo numérico.\")\n",
    "else:\n",
    "    print(x,\"no pertenece al semigrupo numérico.\")\n"
   ]
  },
  {
   "cell_type": "markdown",
   "metadata": {},
   "source": [
    "* Apery del SN:"
   ]
  },
  {
   "cell_type": "code",
   "execution_count": 14,
   "metadata": {
    "ExecuteTime": {
     "end_time": "2021-11-05T18:34:38.227498Z",
     "start_time": "2021-11-05T18:34:38.201496Z"
    }
   },
   "outputs": [
    {
     "name": "stdout",
     "output_type": "stream",
     "text": [
      "\n",
      "[7, 15, 20, 46, 53] es un semigrupo numérico.\n",
      "min(geners) = 7\n",
      "\n",
      "Apery([7, 15, 20, 46, 53],7) = [0, 15, 30, 45, 46, 40, 20]\n",
      "\n",
      "max(Apery)= 47\n"
     ]
    }
   ],
   "source": [
    "apery = ConjApery(geners,True)   "
   ]
  },
  {
   "cell_type": "markdown",
   "metadata": {},
   "source": [
    "* Generador del SN:"
   ]
  },
  {
   "cell_type": "code",
   "execution_count": 15,
   "metadata": {
    "ExecuteTime": {
     "end_time": "2021-11-05T18:34:38.259496Z",
     "start_time": "2021-11-05T18:34:38.233499Z"
    }
   },
   "outputs": [
    {
     "name": "stdout",
     "output_type": "stream",
     "text": [
      "Observamos que es un generador: <class 'generator'>\n",
      "\n",
      "[7, 15, 20, 46, 53] es un semigrupo numérico.\n",
      "min(geners) = 7\n",
      "\n",
      "Apery([7, 15, 20, 46, 53],7) = [0, 15, 30, 45, 46, 40, 20]\n",
      "\n",
      "max(Apery)= 47\n",
      "\n",
      "Semigrupo: [0, 7, 14, 15, 20, 21, 22, 27, 28, 29, 30, 34, 35, 36, 37, 40, 41, 42, 43, 44, 45, 46]\n"
     ]
    }
   ],
   "source": [
    "genSN = GeneradorSN(A,True)\n",
    "\n",
    "print(\"Observamos que es un generador:\",type(genSN))\n",
    "print(\"\\nSemigrupo:\",list(genSN))"
   ]
  },
  {
   "cell_type": "markdown",
   "metadata": {},
   "source": [
    "* Lista de elementos del Semigrupo Numérico (cambiar valor de $verb$ si quieres más datos sobre el SN):"
   ]
  },
  {
   "cell_type": "code",
   "execution_count": 16,
   "metadata": {
    "ExecuteTime": {
     "end_time": "2021-11-05T18:34:38.291494Z",
     "start_time": "2021-11-05T18:34:38.265498Z"
    }
   },
   "outputs": [
    {
     "name": "stdout",
     "output_type": "stream",
     "text": [
      "\n",
      "Semigrupo: [0, 7, 14, 15, 20, 21, 22, 27, 28, 29, 30, 34, 35, 36, 37, 40, 41, 42, 43, 44, 45, 46] ->\n"
     ]
    }
   ],
   "source": [
    "listaSN = ListaSN(A,verb=False)\n",
    "\n",
    "print(\"\\nSemigrupo:\",listaSN,\"->\")"
   ]
  },
  {
   "cell_type": "markdown",
   "metadata": {},
   "source": [
    "#### Rapidez"
   ]
  },
  {
   "cell_type": "code",
   "execution_count": 17,
   "metadata": {
    "ExecuteTime": {
     "end_time": "2021-11-05T18:34:38.306502Z",
     "start_time": "2021-11-05T18:34:38.294496Z"
    }
   },
   "outputs": [],
   "source": [
    "# Generadores del semigrupo numérico a emplear\n",
    "B = [45,77]\n",
    "# Numero de repeticiones.\n",
    "nums = 3"
   ]
  },
  {
   "cell_type": "code",
   "execution_count": 18,
   "metadata": {
    "ExecuteTime": {
     "end_time": "2021-11-05T18:34:39.324849Z",
     "start_time": "2021-11-05T18:34:38.310498Z"
    }
   },
   "outputs": [
    {
     "name": "stdout",
     "output_type": "stream",
     "text": [
      "Tiempo medio empleado al ejecutarlo 3 veces.\n",
      "\\ListaSN tiempo total de las 3 repeticiones: 0.9972466000000004\n",
      "\\ListaSN tiempo medio: 0.33241553333333346\n"
     ]
    }
   ],
   "source": [
    "# Comprobando velocidad de ListaSN.\n",
    "def TiempoListaSN(nums):\n",
    "    SETUP_CODE = '''\n",
    "from __main__ import EsSN,PerteSN,GenInfinitoSN,GenSNMaxApery,GeneradorSN,ListaSN\n",
    "import itertools as itls\n",
    "import math\n",
    "import numpy as np\n",
    "'''\n",
    "\n",
    "    TEST_CODE = '''\n",
    "geners = '''+str(genersB)+'''\n",
    "ListaSN(geners)'''\n",
    "\n",
    "    # timeit.repeat\n",
    "    tiempo = timeit.timeit(setup = SETUP_CODE,\n",
    "                        stmt = TEST_CODE,\n",
    "                        number = nums)\n",
    "\n",
    "    # Imprimiendo en pantalla el minimo tiempo de ejecucion\n",
    "    print('\\ListaSN tiempo total de las',nums,'repeticiones:',tiempo)\n",
    "    print('\\ListaSN tiempo medio:',tiempo/nums)\n",
    "\n",
    "if __name__ == \"__main__\":\n",
    "    genersB=EsSN(B)\n",
    "    \n",
    "    print(\"Tiempo medio empleado al ejecutarlo\",nums,\"veces.\")\n",
    "    TiempoListaSN(nums)"
   ]
  },
  {
   "cell_type": "markdown",
   "metadata": {},
   "source": [
    "## Código"
   ]
  },
  {
   "cell_type": "code",
   "execution_count": 19,
   "metadata": {
    "ExecuteTime": {
     "end_time": "2021-11-05T18:34:39.356849Z",
     "start_time": "2021-11-05T18:34:39.329848Z"
    }
   },
   "outputs": [],
   "source": [
    "'''\n",
    "import itertools as itls\n",
    "import math\n",
    "import numpy as np\n",
    "import timeit\n",
    "\n",
    "def EsSN(geners):\n",
    "    # Comprobamos si \"geners\" es una lista.\n",
    "    if(type(geners) != list): \n",
    "        raise Exception(\"Se deben introducir los generadores en una lista.\")\n",
    "    \n",
    "    # Comprobamos si la lista es vacía\n",
    "    elif(len(geners) == 0): \n",
    "        raise Exception(\"Debe haber al menos un generador.\")\n",
    "    \n",
    "    # Ordenamos la lista y comprobamos si son enteros los elementos de \"geners\".\n",
    "    # Habrá algunos elementos que aunque no sean enteros, serán convertidos a este tipo.\n",
    "    try: \n",
    "        geners = sorted( [int(i) for i in geners] ) \n",
    "    except:\n",
    "        raise Exception(\"Uno de los generadores no es un entero.\")\n",
    "    \n",
    "    # Revisamos si mcd(geners)=1, es decir, si \"geners\" es generador de un SN.\n",
    "    if np.gcd.reduce(geners) == 1:\n",
    "        return geners\n",
    "    else: \n",
    "        raise Exception(\"Debe ser semigrupo numerico.\")\n",
    "\n",
    "def PerteSN(x,geners):\n",
    "    #Creamos otra lista para que no modifique la original \"geners\".\n",
    "    A=list(geners)\n",
    "    \n",
    "    if x == 0: # 0 está en cualquier semigrupo numérico\n",
    "        return True\n",
    "    \n",
    "    elif x < 0: # Los numéros negativos no están en el semigrupo. \n",
    "        # Tras varias operaciones en x, si x modificado no ha llegado a anularse\n",
    "        # este se hará negativo, concluyéndose no está.\n",
    "        return False\n",
    "    \n",
    "    elif len(A) == 1 and x % A[0] == 0: \n",
    "        return True\n",
    "    \n",
    "    elif len( A) == 1: # Al ser \"len(A)=1\" y \"x%A[0]!=0\", x no es parte del semigrupo.\n",
    "        return False\n",
    "    \n",
    "    f= A[0]\n",
    "    A.pop(0)\n",
    "    \n",
    "    return PerteSN(x,A) or PerteSN(x-f,[f]+A)\n",
    "\n",
    "def GenInfinitoSN(geners,ini=0):\n",
    "    iter1 = itls.count(ini)\n",
    "    \n",
    "    ayuda = lambda x: not PerteSN(x,geners)\n",
    "    \n",
    "    return itls.filterfalse(ayuda,iter1)\n",
    "\n",
    "def ConjApery(geners,verb):\n",
    "    geners = EsSN(geners)\n",
    "    \n",
    "    mGeners = min(geners)\n",
    "    \n",
    "    apery = list(itls.repeat(0, mGeners)) \n",
    "    \n",
    "    genSN=GenInfinitoSN(geners,mGeners)\n",
    "    \n",
    "    for i in genSN:\n",
    "        p = i%mGeners\n",
    "        if apery[p] == 0:\n",
    "            apery[p] = i\n",
    "        elif 0 not in apery:\n",
    "            if verb:\n",
    "                apery[0] = 0\n",
    "                maxApery = max(apery)\n",
    "                print(\"\\n\"+str(geners)+\" es un semigrupo numérico.\",end=\"\\n\\n\")\n",
    "                print(\"Apery(\"+str(geners)+\",\"+str(mGeners)+\") = \"+str(apery))\n",
    "                print(\"\\nmax(Apery)= \" + str(maxApery)) \n",
    "            return apery\n",
    "        \n",
    "def GenSNMaxApery(geners,verb=False):\n",
    "    mGeners = min(geners)\n",
    "    \n",
    "    apery = list(itls.repeat(0, mGeners)) \n",
    "    \n",
    "    genSN = GenInfinitoSN(geners,mGeners)\n",
    "    \n",
    "    yield 0\n",
    "    \n",
    "    for i in genSN:\n",
    "        p = i%mGeners\n",
    "        if apery[p] == 0:\n",
    "            apery[p] = i\n",
    "            yield i\n",
    "        elif 0 not in apery:\n",
    "            if verb:\n",
    "                apery[0] = 0\n",
    "                maxApery = max(apery)\n",
    "                print(\"\\n\"+str(geners)+\" es un semigrupo numérico.\",end=\"\\n\")\n",
    "                print(\"min(geners) =\",mGeners,end=\"\\n\\n\")\n",
    "                print(\"Apery(\"+str(geners)+\",\"+str(mGeners)+\") = \"+str(apery),end=\"\\n\\n\")\n",
    "                print(\"max(Apery)= \" + str(maxApery))\n",
    "            return None\n",
    "        else:\n",
    "            yield i\n",
    "\n",
    "def GeneradorSN(geners,verb=False):\n",
    "    geners = EsSN(geners)\n",
    "    \n",
    "    return GenSNMaxApery(geners,verb)\n",
    "\n",
    "def ListaSN(geners,verb=False):\n",
    "    \n",
    "    return list(GeneradorSN(geners,verb))\n",
    "''';"
   ]
  }
 ],
 "metadata": {
  "kernelspec": {
   "display_name": "Python 3 (ipykernel)",
   "language": "python",
   "name": "python3"
  },
  "language_info": {
   "codemirror_mode": {
    "name": "ipython",
    "version": 3
   },
   "file_extension": ".py",
   "mimetype": "text/x-python",
   "name": "python",
   "nbconvert_exporter": "python",
   "pygments_lexer": "ipython3",
   "version": "3.8.12"
  },
  "latex_envs": {
   "LaTeX_envs_menu_present": true,
   "autoclose": false,
   "autocomplete": true,
   "bibliofile": "biblio.bib",
   "cite_by": "apalike",
   "current_citInitial": 1,
   "eqLabelWithNumbers": true,
   "eqNumInitial": 1,
   "hotkeys": {
    "equation": "Ctrl-E",
    "itemize": "Ctrl-I"
   },
   "labels_anchors": false,
   "latex_user_defs": false,
   "report_style_numbering": false,
   "user_envs_cfg": false
  }
 },
 "nbformat": 4,
 "nbformat_minor": 4
}
